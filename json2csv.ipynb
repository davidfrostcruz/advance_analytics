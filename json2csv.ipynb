{
 "cells": [
  {
   "cell_type": "code",
   "execution_count": 1,
   "metadata": {},
   "outputs": [],
   "source": [
    "import pandas as pd\n",
    "import json\n",
    "import networkx as nx\n",
    "from tqdm.notebook import tqdm\n"
   ]
  },
  {
   "cell_type": "code",
   "execution_count": 2,
   "metadata": {},
   "outputs": [
    {
     "data": {
      "application/vnd.jupyter.widget-view+json": {
       "model_id": "2178983046994007abd4bb26a62363e5",
       "version_major": 2,
       "version_minor": 0
      },
      "text/plain": [
       "categories:   0%|          | 0/5 [00:00<?, ?it/s]"
      ]
     },
     "metadata": {},
     "output_type": "display_data"
    },
    {
     "data": {
      "application/vnd.jupyter.widget-view+json": {
       "model_id": "b975916ce451435ebfa81af05a991237",
       "version_major": 2,
       "version_minor": 0
      },
      "text/plain": [
       "german:   0%|          | 0/17120 [00:00<?, ?it/s]"
      ]
     },
     "metadata": {},
     "output_type": "display_data"
    },
    {
     "data": {
      "application/vnd.jupyter.widget-view+json": {
       "model_id": "cd114b6654da47c39e4ff60030267c07",
       "version_major": 2,
       "version_minor": 0
      },
      "text/plain": [
       "portuguese:   0%|          | 0/17524 [00:00<?, ?it/s]"
      ]
     },
     "metadata": {},
     "output_type": "display_data"
    },
    {
     "data": {
      "application/vnd.jupyter.widget-view+json": {
       "model_id": "ff17a9c5d2224bd3ba679b5064b54c8f",
       "version_major": 2,
       "version_minor": 0
      },
      "text/plain": [
       "russian:   0%|          | 0/20684 [00:00<?, ?it/s]"
      ]
     },
     "metadata": {},
     "output_type": "display_data"
    }
   ],
   "source": [
    "languages = ['german','portuguese','russian','spanish','english']\n",
    "\n",
    "for language in tqdm(languages, desc='categories'):\n",
    "    jsonFile = 'json/' + language + '.json'\n",
    "    jsonObjects = []\n",
    "    with open(jsonFile, \"r\", encoding=\"utf-8\") as jsonl:\n",
    "        for line in jsonl.readlines():\n",
    "            jsonLine = json.loads(line)\n",
    "            jsonObjects.append(jsonLine)\n",
    "\n",
    "    nodesDf = pd.DataFrame(columns=['id','label','nodeType','followers'])\n",
    "    edgesDf = pd.DataFrame(columns=['id','start','end', 'label'])\n",
    "\n",
    "    for object in tqdm(jsonObjects, desc=language, leave=True):\n",
    "        for level in ['s1','s2', 'g']:\n",
    "            node = object[level]\n",
    "            if level in ['s1', 's2']:\n",
    "                nodeDict = {'id': node['id'],'label': node['properties']['id'],'nodeType': node['labels'][0]}#, 'followers': node['properties']['followers']}\n",
    "            else:\n",
    "                nodeDict = {'id': node['id'],'label': node['properties']['id'],'nodeType': node['labels'][0]}#, 'followers': ''}\n",
    "            dataFrame = pd.DataFrame([nodeDict])\n",
    "            nodesDf = pd.concat([nodesDf, dataFrame], ignore_index=True)\n",
    "        for level in ['r','p1', 'p2']:\n",
    "            edge = pd.DataFrame([object[level]])\n",
    "            edge.drop(['properties', 'type'], axis=1, inplace=True)\n",
    "            edgesDf = pd.concat([edgesDf, edge])\n",
    "\n",
    "    nodesDf.drop_duplicates(inplace=True)\n",
    "    nodesDf.reset_index(inplace=True)\n",
    "    nodesDf.drop('index', axis=1, inplace=True)\n",
    "\n",
    "    edgesDf.drop_duplicates(inplace=True)\n",
    "    edgesDf.reset_index(inplace=True)\n",
    "    edgesDf.drop('index', axis=1, inplace=True)\n",
    "\n",
    "    nodesFile = 'nodeLists/' + language + 'NodeList.csv'\n",
    "    nodesDf.to_csv(nodesFile,index=False)\n",
    "\n",
    "    edgesFile = 'edgeLists/' + language + 'EdgeList.csv'\n",
    "    edgesDf.rename(columns={'start':'Source', 'end':'Target'}, inplace=True)\n",
    "    edgesDf.to_csv(edgesFile,index=False)\n"
   ]
  }
 ],
 "metadata": {
  "kernelspec": {
   "display_name": "base",
   "language": "python",
   "name": "python3"
  },
  "language_info": {
   "codemirror_mode": {
    "name": "ipython",
    "version": 3
   },
   "file_extension": ".py",
   "mimetype": "text/x-python",
   "name": "python",
   "nbconvert_exporter": "python",
   "pygments_lexer": "ipython3",
   "version": "3.10.9"
  },
  "orig_nbformat": 4
 },
 "nbformat": 4,
 "nbformat_minor": 2
}
