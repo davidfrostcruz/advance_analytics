{
  "cells": [
    {
      "cell_type": "code",
      "execution_count": null,
      "metadata": {
        "colab": {
          "base_uri": "https://localhost:8080/"
        },
        "id": "dzNq_EzNtkxZ",
        "outputId": "39b47c6c-5f01-41f6-e26d-00ce396d0abc"
      },
      "outputs": [
        {
          "output_type": "stream",
          "name": "stdout",
          "text": [
            "Looking in indexes: https://pypi.org/simple, https://us-python.pkg.dev/colab-wheels/public/simple/\n",
            "Requirement already satisfied: pandas-profiling in /usr/local/lib/python3.10/dist-packages (3.6.6)\n",
            "Requirement already satisfied: ydata-profiling in /usr/local/lib/python3.10/dist-packages (from pandas-profiling) (4.2.0)\n",
            "Requirement already satisfied: scipy<1.11,>=1.4.1 in /usr/local/lib/python3.10/dist-packages (from ydata-profiling->pandas-profiling) (1.10.1)\n",
            "Requirement already satisfied: pandas!=1.4.0,<2,>1.1 in /usr/local/lib/python3.10/dist-packages (from ydata-profiling->pandas-profiling) (1.5.3)\n",
            "Requirement already satisfied: matplotlib<4,>=3.2 in /usr/local/lib/python3.10/dist-packages (from ydata-profiling->pandas-profiling) (3.7.1)\n",
            "Requirement already satisfied: pydantic<2,>=1.8.1 in /usr/local/lib/python3.10/dist-packages (from ydata-profiling->pandas-profiling) (1.10.7)\n",
            "Requirement already satisfied: PyYAML<6.1,>=5.0.0 in /usr/local/lib/python3.10/dist-packages (from ydata-profiling->pandas-profiling) (6.0)\n",
            "Requirement already satisfied: jinja2<3.2,>=2.11.1 in /usr/local/lib/python3.10/dist-packages (from ydata-profiling->pandas-profiling) (3.1.2)\n",
            "Requirement already satisfied: visions[type_image_path]==0.7.5 in /usr/local/lib/python3.10/dist-packages (from ydata-profiling->pandas-profiling) (0.7.5)\n",
            "Requirement already satisfied: numpy<1.24,>=1.16.0 in /usr/local/lib/python3.10/dist-packages (from ydata-profiling->pandas-profiling) (1.22.4)\n",
            "Requirement already satisfied: htmlmin==0.1.12 in /usr/local/lib/python3.10/dist-packages (from ydata-profiling->pandas-profiling) (0.1.12)\n",
            "Requirement already satisfied: phik<0.13,>=0.11.1 in /usr/local/lib/python3.10/dist-packages (from ydata-profiling->pandas-profiling) (0.12.3)\n",
            "Requirement already satisfied: requests<3,>=2.24.0 in /usr/local/lib/python3.10/dist-packages (from ydata-profiling->pandas-profiling) (2.27.1)\n",
            "Requirement already satisfied: tqdm<5,>=4.48.2 in /usr/local/lib/python3.10/dist-packages (from ydata-profiling->pandas-profiling) (4.65.0)\n",
            "Requirement already satisfied: seaborn<0.13,>=0.10.1 in /usr/local/lib/python3.10/dist-packages (from ydata-profiling->pandas-profiling) (0.12.2)\n",
            "Requirement already satisfied: multimethod<2,>=1.4 in /usr/local/lib/python3.10/dist-packages (from ydata-profiling->pandas-profiling) (1.9.1)\n",
            "Requirement already satisfied: statsmodels<1,>=0.13.2 in /usr/local/lib/python3.10/dist-packages (from ydata-profiling->pandas-profiling) (0.13.5)\n",
            "Requirement already satisfied: typeguard<3,>=2.13.2 in /usr/local/lib/python3.10/dist-packages (from ydata-profiling->pandas-profiling) (2.13.3)\n",
            "Requirement already satisfied: imagehash==4.3.1 in /usr/local/lib/python3.10/dist-packages (from ydata-profiling->pandas-profiling) (4.3.1)\n",
            "Requirement already satisfied: wordcloud>=1.9.1 in /usr/local/lib/python3.10/dist-packages (from ydata-profiling->pandas-profiling) (1.9.2)\n",
            "Requirement already satisfied: dacite>=1.8 in /usr/local/lib/python3.10/dist-packages (from ydata-profiling->pandas-profiling) (1.8.1)\n",
            "Requirement already satisfied: PyWavelets in /usr/local/lib/python3.10/dist-packages (from imagehash==4.3.1->ydata-profiling->pandas-profiling) (1.4.1)\n",
            "Requirement already satisfied: pillow in /usr/local/lib/python3.10/dist-packages (from imagehash==4.3.1->ydata-profiling->pandas-profiling) (8.4.0)\n",
            "Requirement already satisfied: attrs>=19.3.0 in /usr/local/lib/python3.10/dist-packages (from visions[type_image_path]==0.7.5->ydata-profiling->pandas-profiling) (23.1.0)\n",
            "Requirement already satisfied: networkx>=2.4 in /usr/local/lib/python3.10/dist-packages (from visions[type_image_path]==0.7.5->ydata-profiling->pandas-profiling) (3.1)\n",
            "Requirement already satisfied: tangled-up-in-unicode>=0.0.4 in /usr/local/lib/python3.10/dist-packages (from visions[type_image_path]==0.7.5->ydata-profiling->pandas-profiling) (0.2.0)\n",
            "Requirement already satisfied: MarkupSafe>=2.0 in /usr/local/lib/python3.10/dist-packages (from jinja2<3.2,>=2.11.1->ydata-profiling->pandas-profiling) (2.1.2)\n",
            "Requirement already satisfied: contourpy>=1.0.1 in /usr/local/lib/python3.10/dist-packages (from matplotlib<4,>=3.2->ydata-profiling->pandas-profiling) (1.0.7)\n",
            "Requirement already satisfied: cycler>=0.10 in /usr/local/lib/python3.10/dist-packages (from matplotlib<4,>=3.2->ydata-profiling->pandas-profiling) (0.11.0)\n",
            "Requirement already satisfied: fonttools>=4.22.0 in /usr/local/lib/python3.10/dist-packages (from matplotlib<4,>=3.2->ydata-profiling->pandas-profiling) (4.39.3)\n",
            "Requirement already satisfied: kiwisolver>=1.0.1 in /usr/local/lib/python3.10/dist-packages (from matplotlib<4,>=3.2->ydata-profiling->pandas-profiling) (1.4.4)\n",
            "Requirement already satisfied: packaging>=20.0 in /usr/local/lib/python3.10/dist-packages (from matplotlib<4,>=3.2->ydata-profiling->pandas-profiling) (23.1)\n",
            "Requirement already satisfied: pyparsing>=2.3.1 in /usr/local/lib/python3.10/dist-packages (from matplotlib<4,>=3.2->ydata-profiling->pandas-profiling) (3.0.9)\n",
            "Requirement already satisfied: python-dateutil>=2.7 in /usr/local/lib/python3.10/dist-packages (from matplotlib<4,>=3.2->ydata-profiling->pandas-profiling) (2.8.2)\n",
            "Requirement already satisfied: pytz>=2020.1 in /usr/local/lib/python3.10/dist-packages (from pandas!=1.4.0,<2,>1.1->ydata-profiling->pandas-profiling) (2022.7.1)\n",
            "Requirement already satisfied: joblib>=0.14.1 in /usr/local/lib/python3.10/dist-packages (from phik<0.13,>=0.11.1->ydata-profiling->pandas-profiling) (1.2.0)\n",
            "Requirement already satisfied: typing-extensions>=4.2.0 in /usr/local/lib/python3.10/dist-packages (from pydantic<2,>=1.8.1->ydata-profiling->pandas-profiling) (4.5.0)\n",
            "Requirement already satisfied: urllib3<1.27,>=1.21.1 in /usr/local/lib/python3.10/dist-packages (from requests<3,>=2.24.0->ydata-profiling->pandas-profiling) (1.26.15)\n",
            "Requirement already satisfied: certifi>=2017.4.17 in /usr/local/lib/python3.10/dist-packages (from requests<3,>=2.24.0->ydata-profiling->pandas-profiling) (2022.12.7)\n",
            "Requirement already satisfied: charset-normalizer~=2.0.0 in /usr/local/lib/python3.10/dist-packages (from requests<3,>=2.24.0->ydata-profiling->pandas-profiling) (2.0.12)\n",
            "Requirement already satisfied: idna<4,>=2.5 in /usr/local/lib/python3.10/dist-packages (from requests<3,>=2.24.0->ydata-profiling->pandas-profiling) (3.4)\n",
            "Requirement already satisfied: patsy>=0.5.2 in /usr/local/lib/python3.10/dist-packages (from statsmodels<1,>=0.13.2->ydata-profiling->pandas-profiling) (0.5.3)\n",
            "Requirement already satisfied: six in /usr/local/lib/python3.10/dist-packages (from patsy>=0.5.2->statsmodels<1,>=0.13.2->ydata-profiling->pandas-profiling) (1.16.0)\n",
            "Looking in indexes: https://pypi.org/simple, https://us-python.pkg.dev/colab-wheels/public/simple/\n",
            "Requirement already satisfied: ydata-profiling in /usr/local/lib/python3.10/dist-packages (4.2.0)\n",
            "Requirement already satisfied: scipy<1.11,>=1.4.1 in /usr/local/lib/python3.10/dist-packages (from ydata-profiling) (1.10.1)\n",
            "Requirement already satisfied: pandas!=1.4.0,<2,>1.1 in /usr/local/lib/python3.10/dist-packages (from ydata-profiling) (1.5.3)\n",
            "Requirement already satisfied: matplotlib<4,>=3.2 in /usr/local/lib/python3.10/dist-packages (from ydata-profiling) (3.7.1)\n",
            "Requirement already satisfied: pydantic<2,>=1.8.1 in /usr/local/lib/python3.10/dist-packages (from ydata-profiling) (1.10.7)\n",
            "Requirement already satisfied: PyYAML<6.1,>=5.0.0 in /usr/local/lib/python3.10/dist-packages (from ydata-profiling) (6.0)\n",
            "Requirement already satisfied: jinja2<3.2,>=2.11.1 in /usr/local/lib/python3.10/dist-packages (from ydata-profiling) (3.1.2)\n",
            "Requirement already satisfied: visions[type_image_path]==0.7.5 in /usr/local/lib/python3.10/dist-packages (from ydata-profiling) (0.7.5)\n",
            "Requirement already satisfied: numpy<1.24,>=1.16.0 in /usr/local/lib/python3.10/dist-packages (from ydata-profiling) (1.22.4)\n",
            "Requirement already satisfied: htmlmin==0.1.12 in /usr/local/lib/python3.10/dist-packages (from ydata-profiling) (0.1.12)\n",
            "Requirement already satisfied: phik<0.13,>=0.11.1 in /usr/local/lib/python3.10/dist-packages (from ydata-profiling) (0.12.3)\n",
            "Requirement already satisfied: requests<3,>=2.24.0 in /usr/local/lib/python3.10/dist-packages (from ydata-profiling) (2.27.1)\n",
            "Requirement already satisfied: tqdm<5,>=4.48.2 in /usr/local/lib/python3.10/dist-packages (from ydata-profiling) (4.65.0)\n",
            "Requirement already satisfied: seaborn<0.13,>=0.10.1 in /usr/local/lib/python3.10/dist-packages (from ydata-profiling) (0.12.2)\n",
            "Requirement already satisfied: multimethod<2,>=1.4 in /usr/local/lib/python3.10/dist-packages (from ydata-profiling) (1.9.1)\n",
            "Requirement already satisfied: statsmodels<1,>=0.13.2 in /usr/local/lib/python3.10/dist-packages (from ydata-profiling) (0.13.5)\n",
            "Requirement already satisfied: typeguard<3,>=2.13.2 in /usr/local/lib/python3.10/dist-packages (from ydata-profiling) (2.13.3)\n",
            "Requirement already satisfied: imagehash==4.3.1 in /usr/local/lib/python3.10/dist-packages (from ydata-profiling) (4.3.1)\n",
            "Requirement already satisfied: wordcloud>=1.9.1 in /usr/local/lib/python3.10/dist-packages (from ydata-profiling) (1.9.2)\n",
            "Requirement already satisfied: dacite>=1.8 in /usr/local/lib/python3.10/dist-packages (from ydata-profiling) (1.8.1)\n",
            "Requirement already satisfied: PyWavelets in /usr/local/lib/python3.10/dist-packages (from imagehash==4.3.1->ydata-profiling) (1.4.1)\n",
            "Requirement already satisfied: pillow in /usr/local/lib/python3.10/dist-packages (from imagehash==4.3.1->ydata-profiling) (8.4.0)\n",
            "Requirement already satisfied: attrs>=19.3.0 in /usr/local/lib/python3.10/dist-packages (from visions[type_image_path]==0.7.5->ydata-profiling) (23.1.0)\n",
            "Requirement already satisfied: networkx>=2.4 in /usr/local/lib/python3.10/dist-packages (from visions[type_image_path]==0.7.5->ydata-profiling) (3.1)\n",
            "Requirement already satisfied: tangled-up-in-unicode>=0.0.4 in /usr/local/lib/python3.10/dist-packages (from visions[type_image_path]==0.7.5->ydata-profiling) (0.2.0)\n",
            "Requirement already satisfied: MarkupSafe>=2.0 in /usr/local/lib/python3.10/dist-packages (from jinja2<3.2,>=2.11.1->ydata-profiling) (2.1.2)\n",
            "Requirement already satisfied: contourpy>=1.0.1 in /usr/local/lib/python3.10/dist-packages (from matplotlib<4,>=3.2->ydata-profiling) (1.0.7)\n",
            "Requirement already satisfied: cycler>=0.10 in /usr/local/lib/python3.10/dist-packages (from matplotlib<4,>=3.2->ydata-profiling) (0.11.0)\n",
            "Requirement already satisfied: fonttools>=4.22.0 in /usr/local/lib/python3.10/dist-packages (from matplotlib<4,>=3.2->ydata-profiling) (4.39.3)\n",
            "Requirement already satisfied: kiwisolver>=1.0.1 in /usr/local/lib/python3.10/dist-packages (from matplotlib<4,>=3.2->ydata-profiling) (1.4.4)\n",
            "Requirement already satisfied: packaging>=20.0 in /usr/local/lib/python3.10/dist-packages (from matplotlib<4,>=3.2->ydata-profiling) (23.1)\n",
            "Requirement already satisfied: pyparsing>=2.3.1 in /usr/local/lib/python3.10/dist-packages (from matplotlib<4,>=3.2->ydata-profiling) (3.0.9)\n",
            "Requirement already satisfied: python-dateutil>=2.7 in /usr/local/lib/python3.10/dist-packages (from matplotlib<4,>=3.2->ydata-profiling) (2.8.2)\n",
            "Requirement already satisfied: pytz>=2020.1 in /usr/local/lib/python3.10/dist-packages (from pandas!=1.4.0,<2,>1.1->ydata-profiling) (2022.7.1)\n",
            "Requirement already satisfied: joblib>=0.14.1 in /usr/local/lib/python3.10/dist-packages (from phik<0.13,>=0.11.1->ydata-profiling) (1.2.0)\n",
            "Requirement already satisfied: typing-extensions>=4.2.0 in /usr/local/lib/python3.10/dist-packages (from pydantic<2,>=1.8.1->ydata-profiling) (4.5.0)\n",
            "Requirement already satisfied: urllib3<1.27,>=1.21.1 in /usr/local/lib/python3.10/dist-packages (from requests<3,>=2.24.0->ydata-profiling) (1.26.15)\n",
            "Requirement already satisfied: certifi>=2017.4.17 in /usr/local/lib/python3.10/dist-packages (from requests<3,>=2.24.0->ydata-profiling) (2022.12.7)\n",
            "Requirement already satisfied: charset-normalizer~=2.0.0 in /usr/local/lib/python3.10/dist-packages (from requests<3,>=2.24.0->ydata-profiling) (2.0.12)\n",
            "Requirement already satisfied: idna<4,>=2.5 in /usr/local/lib/python3.10/dist-packages (from requests<3,>=2.24.0->ydata-profiling) (3.4)\n",
            "Requirement already satisfied: patsy>=0.5.2 in /usr/local/lib/python3.10/dist-packages (from statsmodels<1,>=0.13.2->ydata-profiling) (0.5.3)\n",
            "Requirement already satisfied: six in /usr/local/lib/python3.10/dist-packages (from patsy>=0.5.2->statsmodels<1,>=0.13.2->ydata-profiling) (1.16.0)\n",
            "Looking in indexes: https://pypi.org/simple, https://us-python.pkg.dev/colab-wheels/public/simple/\n",
            "Requirement already satisfied: geopy in /usr/local/lib/python3.10/dist-packages (2.3.0)\n",
            "Requirement already satisfied: geographiclib<3,>=1.52 in /usr/local/lib/python3.10/dist-packages (from geopy) (2.0)\n",
            "Looking in indexes: https://pypi.org/simple, https://us-python.pkg.dev/colab-wheels/public/simple/\n",
            "Requirement already satisfied: autoviz in /usr/local/lib/python3.10/dist-packages (0.1.604)\n",
            "Requirement already satisfied: bokeh>=2.4.2 in /usr/local/lib/python3.10/dist-packages (from autoviz) (2.4.3)\n",
            "Requirement already satisfied: emoji in /usr/local/lib/python3.10/dist-packages (from autoviz) (2.4.0)\n",
            "Requirement already satisfied: fsspec>=0.8.3 in /usr/local/lib/python3.10/dist-packages (from autoviz) (2023.4.0)\n",
            "Requirement already satisfied: holoviews~=1.14.9 in /usr/local/lib/python3.10/dist-packages (from autoviz) (1.14.9)\n",
            "Requirement already satisfied: hvplot>=0.7.3 in /usr/local/lib/python3.10/dist-packages (from autoviz) (0.8.3)\n",
            "Requirement already satisfied: ipython in /usr/local/lib/python3.10/dist-packages (from autoviz) (7.34.0)\n",
            "Requirement already satisfied: jupyter in /usr/local/lib/python3.10/dist-packages (from autoviz) (1.0.0)\n",
            "Requirement already satisfied: matplotlib>=3.3.3 in /usr/local/lib/python3.10/dist-packages (from autoviz) (3.7.1)\n",
            "Requirement already satisfied: nltk in /usr/local/lib/python3.10/dist-packages (from autoviz) (3.8.1)\n",
            "Requirement already satisfied: numpy in /usr/local/lib/python3.10/dist-packages (from autoviz) (1.22.4)\n",
            "Requirement already satisfied: pandas in /usr/local/lib/python3.10/dist-packages (from autoviz) (1.5.3)\n",
            "Requirement already satisfied: panel>=0.12.6 in /usr/local/lib/python3.10/dist-packages (from autoviz) (0.14.4)\n",
            "Requirement already satisfied: pyamg in /usr/local/lib/python3.10/dist-packages (from autoviz) (5.0.0)\n",
            "Requirement already satisfied: scikit-learn in /usr/local/lib/python3.10/dist-packages (from autoviz) (1.2.2)\n",
            "Requirement already satisfied: seaborn>=0.11.1 in /usr/local/lib/python3.10/dist-packages (from autoviz) (0.12.2)\n",
            "Requirement already satisfied: statsmodels in /usr/local/lib/python3.10/dist-packages (from autoviz) (0.13.5)\n",
            "Requirement already satisfied: textblob in /usr/local/lib/python3.10/dist-packages (from autoviz) (0.17.1)\n",
            "Requirement already satisfied: typing-extensions>=4.1.1 in /usr/local/lib/python3.10/dist-packages (from autoviz) (4.5.0)\n",
            "Requirement already satisfied: wordcloud in /usr/local/lib/python3.10/dist-packages (from autoviz) (1.9.2)\n",
            "Requirement already satisfied: xgboost>=0.82 in /usr/local/lib/python3.10/dist-packages (from autoviz) (1.7.5)\n",
            "Requirement already satisfied: xlrd in /usr/local/lib/python3.10/dist-packages (from autoviz) (2.0.1)\n",
            "Requirement already satisfied: Jinja2>=2.9 in /usr/local/lib/python3.10/dist-packages (from bokeh>=2.4.2->autoviz) (3.1.2)\n",
            "Requirement already satisfied: packaging>=16.8 in /usr/local/lib/python3.10/dist-packages (from bokeh>=2.4.2->autoviz) (23.1)\n",
            "Requirement already satisfied: pillow>=7.1.0 in /usr/local/lib/python3.10/dist-packages (from bokeh>=2.4.2->autoviz) (8.4.0)\n",
            "Requirement already satisfied: PyYAML>=3.10 in /usr/local/lib/python3.10/dist-packages (from bokeh>=2.4.2->autoviz) (6.0)\n",
            "Requirement already satisfied: tornado>=5.1 in /usr/local/lib/python3.10/dist-packages (from bokeh>=2.4.2->autoviz) (6.3.1)\n",
            "Requirement already satisfied: param<2.0,>=1.9.3 in /usr/local/lib/python3.10/dist-packages (from holoviews~=1.14.9->autoviz) (1.13.0)\n",
            "Requirement already satisfied: pyviz-comms>=0.7.4 in /usr/local/lib/python3.10/dist-packages (from holoviews~=1.14.9->autoviz) (2.2.1)\n",
            "Requirement already satisfied: colorcet in /usr/local/lib/python3.10/dist-packages (from holoviews~=1.14.9->autoviz) (3.0.1)\n",
            "Requirement already satisfied: contourpy>=1.0.1 in /usr/local/lib/python3.10/dist-packages (from matplotlib>=3.3.3->autoviz) (1.0.7)\n",
            "Requirement already satisfied: cycler>=0.10 in /usr/local/lib/python3.10/dist-packages (from matplotlib>=3.3.3->autoviz) (0.11.0)\n",
            "Requirement already satisfied: fonttools>=4.22.0 in /usr/local/lib/python3.10/dist-packages (from matplotlib>=3.3.3->autoviz) (4.39.3)\n",
            "Requirement already satisfied: kiwisolver>=1.0.1 in /usr/local/lib/python3.10/dist-packages (from matplotlib>=3.3.3->autoviz) (1.4.4)\n",
            "Requirement already satisfied: pyparsing>=2.3.1 in /usr/local/lib/python3.10/dist-packages (from matplotlib>=3.3.3->autoviz) (3.0.9)\n",
            "Requirement already satisfied: python-dateutil>=2.7 in /usr/local/lib/python3.10/dist-packages (from matplotlib>=3.3.3->autoviz) (2.8.2)\n",
            "Requirement already satisfied: pytz>=2020.1 in /usr/local/lib/python3.10/dist-packages (from pandas->autoviz) (2022.7.1)\n",
            "Requirement already satisfied: markdown in /usr/local/lib/python3.10/dist-packages (from panel>=0.12.6->autoviz) (3.4.3)\n",
            "Requirement already satisfied: requests in /usr/local/lib/python3.10/dist-packages (from panel>=0.12.6->autoviz) (2.27.1)\n",
            "Requirement already satisfied: tqdm>=4.48.0 in /usr/local/lib/python3.10/dist-packages (from panel>=0.12.6->autoviz) (4.65.0)\n",
            "Requirement already satisfied: pyct>=0.4.4 in /usr/local/lib/python3.10/dist-packages (from panel>=0.12.6->autoviz) (0.5.0)\n",
            "Requirement already satisfied: bleach in /usr/local/lib/python3.10/dist-packages (from panel>=0.12.6->autoviz) (6.0.0)\n",
            "Requirement already satisfied: setuptools>=42 in /usr/local/lib/python3.10/dist-packages (from panel>=0.12.6->autoviz) (67.7.2)\n",
            "Requirement already satisfied: scipy in /usr/local/lib/python3.10/dist-packages (from xgboost>=0.82->autoviz) (1.10.1)\n",
            "Requirement already satisfied: jedi>=0.16 in /usr/local/lib/python3.10/dist-packages (from ipython->autoviz) (0.18.2)\n",
            "Requirement already satisfied: decorator in /usr/local/lib/python3.10/dist-packages (from ipython->autoviz) (4.4.2)\n",
            "Requirement already satisfied: pickleshare in /usr/local/lib/python3.10/dist-packages (from ipython->autoviz) (0.7.5)\n",
            "Requirement already satisfied: traitlets>=4.2 in /usr/local/lib/python3.10/dist-packages (from ipython->autoviz) (5.7.1)\n",
            "Requirement already satisfied: prompt-toolkit!=3.0.0,!=3.0.1,<3.1.0,>=2.0.0 in /usr/local/lib/python3.10/dist-packages (from ipython->autoviz) (3.0.38)\n",
            "Requirement already satisfied: pygments in /usr/local/lib/python3.10/dist-packages (from ipython->autoviz) (2.14.0)\n",
            "Requirement already satisfied: backcall in /usr/local/lib/python3.10/dist-packages (from ipython->autoviz) (0.2.0)\n",
            "Requirement already satisfied: matplotlib-inline in /usr/local/lib/python3.10/dist-packages (from ipython->autoviz) (0.1.6)\n",
            "Requirement already satisfied: pexpect>4.3 in /usr/local/lib/python3.10/dist-packages (from ipython->autoviz) (4.8.0)\n",
            "Requirement already satisfied: notebook in /usr/local/lib/python3.10/dist-packages (from jupyter->autoviz) (6.4.8)\n",
            "Requirement already satisfied: qtconsole in /usr/local/lib/python3.10/dist-packages (from jupyter->autoviz) (5.4.3)\n",
            "Requirement already satisfied: jupyter-console in /usr/local/lib/python3.10/dist-packages (from jupyter->autoviz) (6.1.0)\n",
            "Requirement already satisfied: nbconvert in /usr/local/lib/python3.10/dist-packages (from jupyter->autoviz) (6.5.4)\n",
            "Requirement already satisfied: ipykernel in /usr/local/lib/python3.10/dist-packages (from jupyter->autoviz) (5.5.6)\n",
            "Requirement already satisfied: ipywidgets in /usr/local/lib/python3.10/dist-packages (from jupyter->autoviz) (7.7.1)\n",
            "Requirement already satisfied: click in /usr/local/lib/python3.10/dist-packages (from nltk->autoviz) (8.1.3)\n",
            "Requirement already satisfied: joblib in /usr/local/lib/python3.10/dist-packages (from nltk->autoviz) (1.2.0)\n",
            "Requirement already satisfied: regex>=2021.8.3 in /usr/local/lib/python3.10/dist-packages (from nltk->autoviz) (2022.10.31)\n",
            "Requirement already satisfied: threadpoolctl>=2.0.0 in /usr/local/lib/python3.10/dist-packages (from scikit-learn->autoviz) (3.1.0)\n",
            "Requirement already satisfied: patsy>=0.5.2 in /usr/local/lib/python3.10/dist-packages (from statsmodels->autoviz) (0.5.3)\n",
            "Requirement already satisfied: parso<0.9.0,>=0.8.0 in /usr/local/lib/python3.10/dist-packages (from jedi>=0.16->ipython->autoviz) (0.8.3)\n",
            "Requirement already satisfied: MarkupSafe>=2.0 in /usr/local/lib/python3.10/dist-packages (from Jinja2>=2.9->bokeh>=2.4.2->autoviz) (2.1.2)\n",
            "Requirement already satisfied: six in /usr/local/lib/python3.10/dist-packages (from patsy>=0.5.2->statsmodels->autoviz) (1.16.0)\n",
            "Requirement already satisfied: ptyprocess>=0.5 in /usr/local/lib/python3.10/dist-packages (from pexpect>4.3->ipython->autoviz) (0.7.0)\n",
            "Requirement already satisfied: wcwidth in /usr/local/lib/python3.10/dist-packages (from prompt-toolkit!=3.0.0,!=3.0.1,<3.1.0,>=2.0.0->ipython->autoviz) (0.2.6)\n",
            "Requirement already satisfied: webencodings in /usr/local/lib/python3.10/dist-packages (from bleach->panel>=0.12.6->autoviz) (0.5.1)\n",
            "Requirement already satisfied: ipython-genutils in /usr/local/lib/python3.10/dist-packages (from ipykernel->jupyter->autoviz) (0.2.0)\n",
            "Requirement already satisfied: jupyter-client in /usr/local/lib/python3.10/dist-packages (from ipykernel->jupyter->autoviz) (6.1.12)\n",
            "Requirement already satisfied: widgetsnbextension~=3.6.0 in /usr/local/lib/python3.10/dist-packages (from ipywidgets->jupyter->autoviz) (3.6.4)\n",
            "Requirement already satisfied: jupyterlab-widgets>=1.0.0 in /usr/local/lib/python3.10/dist-packages (from ipywidgets->jupyter->autoviz) (3.0.7)\n",
            "Requirement already satisfied: lxml in /usr/local/lib/python3.10/dist-packages (from nbconvert->jupyter->autoviz) (4.9.2)\n",
            "Requirement already satisfied: beautifulsoup4 in /usr/local/lib/python3.10/dist-packages (from nbconvert->jupyter->autoviz) (4.11.2)\n",
            "Requirement already satisfied: defusedxml in /usr/local/lib/python3.10/dist-packages (from nbconvert->jupyter->autoviz) (0.7.1)\n",
            "Requirement already satisfied: entrypoints>=0.2.2 in /usr/local/lib/python3.10/dist-packages (from nbconvert->jupyter->autoviz) (0.4)\n",
            "Requirement already satisfied: jupyter-core>=4.7 in /usr/local/lib/python3.10/dist-packages (from nbconvert->jupyter->autoviz) (5.3.0)\n",
            "Requirement already satisfied: jupyterlab-pygments in /usr/local/lib/python3.10/dist-packages (from nbconvert->jupyter->autoviz) (0.2.2)\n",
            "Requirement already satisfied: mistune<2,>=0.8.1 in /usr/local/lib/python3.10/dist-packages (from nbconvert->jupyter->autoviz) (0.8.4)\n",
            "Requirement already satisfied: nbclient>=0.5.0 in /usr/local/lib/python3.10/dist-packages (from nbconvert->jupyter->autoviz) (0.7.4)\n",
            "Requirement already satisfied: nbformat>=5.1 in /usr/local/lib/python3.10/dist-packages (from nbconvert->jupyter->autoviz) (5.8.0)\n",
            "Requirement already satisfied: pandocfilters>=1.4.1 in /usr/local/lib/python3.10/dist-packages (from nbconvert->jupyter->autoviz) (1.5.0)\n",
            "Requirement already satisfied: tinycss2 in /usr/local/lib/python3.10/dist-packages (from nbconvert->jupyter->autoviz) (1.2.1)\n",
            "Requirement already satisfied: pyzmq>=17 in /usr/local/lib/python3.10/dist-packages (from notebook->jupyter->autoviz) (23.2.1)\n",
            "Requirement already satisfied: argon2-cffi in /usr/local/lib/python3.10/dist-packages (from notebook->jupyter->autoviz) (21.3.0)\n",
            "Requirement already satisfied: nest-asyncio>=1.5 in /usr/local/lib/python3.10/dist-packages (from notebook->jupyter->autoviz) (1.5.6)\n",
            "Requirement already satisfied: Send2Trash>=1.8.0 in /usr/local/lib/python3.10/dist-packages (from notebook->jupyter->autoviz) (1.8.0)\n",
            "Requirement already satisfied: terminado>=0.8.3 in /usr/local/lib/python3.10/dist-packages (from notebook->jupyter->autoviz) (0.17.1)\n",
            "Requirement already satisfied: prometheus-client in /usr/local/lib/python3.10/dist-packages (from notebook->jupyter->autoviz) (0.16.0)\n",
            "Requirement already satisfied: qtpy>=2.0.1 in /usr/local/lib/python3.10/dist-packages (from qtconsole->jupyter->autoviz) (2.3.1)\n",
            "Requirement already satisfied: urllib3<1.27,>=1.21.1 in /usr/local/lib/python3.10/dist-packages (from requests->panel>=0.12.6->autoviz) (1.26.15)\n",
            "Requirement already satisfied: certifi>=2017.4.17 in /usr/local/lib/python3.10/dist-packages (from requests->panel>=0.12.6->autoviz) (2022.12.7)\n",
            "Requirement already satisfied: charset-normalizer~=2.0.0 in /usr/local/lib/python3.10/dist-packages (from requests->panel>=0.12.6->autoviz) (2.0.12)\n",
            "Requirement already satisfied: idna<4,>=2.5 in /usr/local/lib/python3.10/dist-packages (from requests->panel>=0.12.6->autoviz) (3.4)\n",
            "Requirement already satisfied: platformdirs>=2.5 in /usr/local/lib/python3.10/dist-packages (from jupyter-core>=4.7->nbconvert->jupyter->autoviz) (3.3.0)\n",
            "Requirement already satisfied: fastjsonschema in /usr/local/lib/python3.10/dist-packages (from nbformat>=5.1->nbconvert->jupyter->autoviz) (2.16.3)\n",
            "Requirement already satisfied: jsonschema>=2.6 in /usr/local/lib/python3.10/dist-packages (from nbformat>=5.1->nbconvert->jupyter->autoviz) (4.3.3)\n",
            "Requirement already satisfied: argon2-cffi-bindings in /usr/local/lib/python3.10/dist-packages (from argon2-cffi->notebook->jupyter->autoviz) (21.2.0)\n",
            "Requirement already satisfied: soupsieve>1.2 in /usr/local/lib/python3.10/dist-packages (from beautifulsoup4->nbconvert->jupyter->autoviz) (2.4.1)\n",
            "Requirement already satisfied: attrs>=17.4.0 in /usr/local/lib/python3.10/dist-packages (from jsonschema>=2.6->nbformat>=5.1->nbconvert->jupyter->autoviz) (23.1.0)\n",
            "Requirement already satisfied: pyrsistent!=0.17.0,!=0.17.1,!=0.17.2,>=0.14.0 in /usr/local/lib/python3.10/dist-packages (from jsonschema>=2.6->nbformat>=5.1->nbconvert->jupyter->autoviz) (0.19.3)\n",
            "Requirement already satisfied: cffi>=1.0.1 in /usr/local/lib/python3.10/dist-packages (from argon2-cffi-bindings->argon2-cffi->notebook->jupyter->autoviz) (1.15.1)\n",
            "Requirement already satisfied: pycparser in /usr/local/lib/python3.10/dist-packages (from cffi>=1.0.1->argon2-cffi-bindings->argon2-cffi->notebook->jupyter->autoviz) (2.21)\n",
            "Looking in indexes: https://pypi.org/simple, https://us-python.pkg.dev/colab-wheels/public/simple/\n",
            "Requirement already satisfied: matplotlib in /usr/local/lib/python3.10/dist-packages (3.7.1)\n",
            "Requirement already satisfied: contourpy>=1.0.1 in /usr/local/lib/python3.10/dist-packages (from matplotlib) (1.0.7)\n",
            "Requirement already satisfied: cycler>=0.10 in /usr/local/lib/python3.10/dist-packages (from matplotlib) (0.11.0)\n",
            "Requirement already satisfied: fonttools>=4.22.0 in /usr/local/lib/python3.10/dist-packages (from matplotlib) (4.39.3)\n",
            "Requirement already satisfied: kiwisolver>=1.0.1 in /usr/local/lib/python3.10/dist-packages (from matplotlib) (1.4.4)\n",
            "Requirement already satisfied: numpy>=1.20 in /usr/local/lib/python3.10/dist-packages (from matplotlib) (1.22.4)\n",
            "Requirement already satisfied: packaging>=20.0 in /usr/local/lib/python3.10/dist-packages (from matplotlib) (23.1)\n",
            "Requirement already satisfied: pillow>=6.2.0 in /usr/local/lib/python3.10/dist-packages (from matplotlib) (8.4.0)\n",
            "Requirement already satisfied: pyparsing>=2.3.1 in /usr/local/lib/python3.10/dist-packages (from matplotlib) (3.0.9)\n",
            "Requirement already satisfied: python-dateutil>=2.7 in /usr/local/lib/python3.10/dist-packages (from matplotlib) (2.8.2)\n",
            "Requirement already satisfied: six>=1.5 in /usr/local/lib/python3.10/dist-packages (from python-dateutil>=2.7->matplotlib) (1.16.0)\n",
            "Looking in indexes: https://pypi.org/simple, https://us-python.pkg.dev/colab-wheels/public/simple/\n",
            "Requirement already satisfied: textblob in /usr/local/lib/python3.10/dist-packages (0.17.1)\n",
            "Requirement already satisfied: nltk>=3.1 in /usr/local/lib/python3.10/dist-packages (from textblob) (3.8.1)\n",
            "Requirement already satisfied: click in /usr/local/lib/python3.10/dist-packages (from nltk>=3.1->textblob) (8.1.3)\n",
            "Requirement already satisfied: joblib in /usr/local/lib/python3.10/dist-packages (from nltk>=3.1->textblob) (1.2.0)\n",
            "Requirement already satisfied: regex>=2021.8.3 in /usr/local/lib/python3.10/dist-packages (from nltk>=3.1->textblob) (2022.10.31)\n",
            "Requirement already satisfied: tqdm in /usr/local/lib/python3.10/dist-packages (from nltk>=3.1->textblob) (4.65.0)\n",
            "Looking in indexes: https://pypi.org/simple, https://us-python.pkg.dev/colab-wheels/public/simple/\n",
            "Requirement already satisfied: statsmodels in /usr/local/lib/python3.10/dist-packages (0.13.5)\n",
            "Requirement already satisfied: pandas>=0.25 in /usr/local/lib/python3.10/dist-packages (from statsmodels) (1.5.3)\n",
            "Requirement already satisfied: patsy>=0.5.2 in /usr/local/lib/python3.10/dist-packages (from statsmodels) (0.5.3)\n",
            "Requirement already satisfied: packaging>=21.3 in /usr/local/lib/python3.10/dist-packages (from statsmodels) (23.1)\n",
            "Requirement already satisfied: scipy>=1.3 in /usr/local/lib/python3.10/dist-packages (from statsmodels) (1.10.1)\n",
            "Requirement already satisfied: numpy>=1.17 in /usr/local/lib/python3.10/dist-packages (from statsmodels) (1.22.4)\n",
            "Requirement already satisfied: python-dateutil>=2.8.1 in /usr/local/lib/python3.10/dist-packages (from pandas>=0.25->statsmodels) (2.8.2)\n",
            "Requirement already satisfied: pytz>=2020.1 in /usr/local/lib/python3.10/dist-packages (from pandas>=0.25->statsmodels) (2022.7.1)\n",
            "Requirement already satisfied: six in /usr/local/lib/python3.10/dist-packages (from patsy>=0.5.2->statsmodels) (1.16.0)\n",
            "Looking in indexes: https://pypi.org/simple, https://us-python.pkg.dev/colab-wheels/public/simple/\n",
            "Requirement already satisfied: missingno in /usr/local/lib/python3.10/dist-packages (0.5.2)\n",
            "Requirement already satisfied: numpy in /usr/local/lib/python3.10/dist-packages (from missingno) (1.22.4)\n",
            "Requirement already satisfied: matplotlib in /usr/local/lib/python3.10/dist-packages (from missingno) (3.7.1)\n",
            "Requirement already satisfied: scipy in /usr/local/lib/python3.10/dist-packages (from missingno) (1.10.1)\n",
            "Requirement already satisfied: seaborn in /usr/local/lib/python3.10/dist-packages (from missingno) (0.12.2)\n",
            "Requirement already satisfied: contourpy>=1.0.1 in /usr/local/lib/python3.10/dist-packages (from matplotlib->missingno) (1.0.7)\n",
            "Requirement already satisfied: cycler>=0.10 in /usr/local/lib/python3.10/dist-packages (from matplotlib->missingno) (0.11.0)\n",
            "Requirement already satisfied: fonttools>=4.22.0 in /usr/local/lib/python3.10/dist-packages (from matplotlib->missingno) (4.39.3)\n",
            "Requirement already satisfied: kiwisolver>=1.0.1 in /usr/local/lib/python3.10/dist-packages (from matplotlib->missingno) (1.4.4)\n",
            "Requirement already satisfied: packaging>=20.0 in /usr/local/lib/python3.10/dist-packages (from matplotlib->missingno) (23.1)\n",
            "Requirement already satisfied: pillow>=6.2.0 in /usr/local/lib/python3.10/dist-packages (from matplotlib->missingno) (8.4.0)\n",
            "Requirement already satisfied: pyparsing>=2.3.1 in /usr/local/lib/python3.10/dist-packages (from matplotlib->missingno) (3.0.9)\n",
            "Requirement already satisfied: python-dateutil>=2.7 in /usr/local/lib/python3.10/dist-packages (from matplotlib->missingno) (2.8.2)\n",
            "Requirement already satisfied: pandas>=0.25 in /usr/local/lib/python3.10/dist-packages (from seaborn->missingno) (1.5.3)\n",
            "Requirement already satisfied: pytz>=2020.1 in /usr/local/lib/python3.10/dist-packages (from pandas>=0.25->seaborn->missingno) (2022.7.1)\n",
            "Requirement already satisfied: six>=1.5 in /usr/local/lib/python3.10/dist-packages (from python-dateutil>=2.7->matplotlib->missingno) (1.16.0)\n",
            "[nltk_data] Downloading package brown to /root/nltk_data...\n",
            "[nltk_data]   Package brown is already up-to-date!\n",
            "[nltk_data] Downloading package punkt to /root/nltk_data...\n",
            "[nltk_data]   Package punkt is already up-to-date!\n",
            "[nltk_data] Downloading package wordnet to /root/nltk_data...\n",
            "[nltk_data]   Package wordnet is already up-to-date!\n",
            "[nltk_data] Downloading package averaged_perceptron_tagger to\n",
            "[nltk_data]     /root/nltk_data...\n",
            "[nltk_data]   Package averaged_perceptron_tagger is already up-to-\n",
            "[nltk_data]       date!\n",
            "[nltk_data] Downloading package conll2000 to /root/nltk_data...\n",
            "[nltk_data]   Package conll2000 is already up-to-date!\n",
            "[nltk_data] Downloading package movie_reviews to /root/nltk_data...\n",
            "[nltk_data]   Package movie_reviews is already up-to-date!\n",
            "Finished.\n",
            "Looking in indexes: https://pypi.org/simple, https://us-python.pkg.dev/colab-wheels/public/simple/\n",
            "Requirement already satisfied: missingpy in /usr/local/lib/python3.10/dist-packages (0.2.0)\n",
            "Looking in indexes: https://pypi.org/simple, https://us-python.pkg.dev/colab-wheels/public/simple/\n",
            "Requirement already satisfied: scikit-learn in /usr/local/lib/python3.10/dist-packages (1.2.2)\n",
            "Requirement already satisfied: numpy>=1.17.3 in /usr/local/lib/python3.10/dist-packages (from scikit-learn) (1.22.4)\n",
            "Requirement already satisfied: scipy>=1.3.2 in /usr/local/lib/python3.10/dist-packages (from scikit-learn) (1.10.1)\n",
            "Requirement already satisfied: joblib>=1.1.1 in /usr/local/lib/python3.10/dist-packages (from scikit-learn) (1.2.0)\n",
            "Requirement already satisfied: threadpoolctl>=2.0.0 in /usr/local/lib/python3.10/dist-packages (from scikit-learn) (3.1.0)\n",
            "Looking in indexes: https://pypi.org/simple, https://us-python.pkg.dev/colab-wheels/public/simple/\n",
            "Requirement already satisfied: sklearn in /usr/local/lib/python3.10/dist-packages (0.0.post5)\n"
          ]
        }
      ],
      "source": [
        "# Import libraries\n",
        "!pip install pandas-profiling\n",
        "!pip install ydata-profiling\n",
        "!pip install geopy\n",
        "!pip install autoviz\n",
        "!pip install matplotlib\n",
        "!pip install -U textblob\n",
        "!pip install statsmodels\n",
        "!pip install missingno\n",
        "!python -m textblob.download_corpora\n",
        "!pip install missingpy\n",
        "!pip install scikit-learn\n",
        "!pip install sklearn\n",
        "import pickle\n",
        "import re\n",
        "import numpy as np \n",
        "import seaborn as sns\n",
        "import plotly.graph_objects as go\n",
        "import pandas as pd\n",
        "import missingno as msno\n",
        "import matplotlib.pyplot as plt\n",
        "import os\n",
        "import sklearn\n",
        "import joblib"
      ]
    },
    {
      "cell_type": "code",
      "execution_count": null,
      "metadata": {
        "id": "6D537YOGtZEl"
      },
      "outputs": [],
      "source": [
        "# Set path to the directory containing the training dataset\n",
        "path_copy_test = \"\" # add specific path\n",
        "df_test_or = pd.read_csv(path_copy_test) # Getting the original training data Set\n",
        "df_test = df_test_or.copy() # Keeping an exact copy from the data set"
      ]
    },
    {
      "cell_type": "code",
      "source": [
        "df = df_test"
      ],
      "metadata": {
        "id": "Q1h5q66KJeRx"
      },
      "execution_count": null,
      "outputs": []
    },
    {
      "cell_type": "markdown",
      "metadata": {
        "id": "WdXx8DCzgKFG"
      },
      "source": [
        "#### Defining functions to use"
      ]
    },
    {
      "cell_type": "markdown",
      "metadata": {
        "id": "q2_s-MrgSpRc"
      },
      "source": [
        "In this section, the used functions are defined. Make sure to run it before the rest of the code. "
      ]
    },
    {
      "cell_type": "markdown",
      "metadata": {
        "id": "9yNWEKYKsNdu"
      },
      "source": [
        "EDA"
      ]
    },
    {
      "cell_type": "code",
      "execution_count": null,
      "metadata": {
        "id": "yOwuq4ITnaKQ"
      },
      "outputs": [],
      "source": [
        "# Defining numerical and categorical features of the data set \n",
        "numerical_features = [\n",
        "'property_max_guests', 'host_response_rate', 'booking_max_nights', \n",
        "'booking_min_nights', 'booking_availability_30', \n",
        "'booking_availability_60', 'booking_availability_90',\n",
        "'booking_availability_365', 'reviews_num', 'reviews_rating', 'reviews_acc', 'reviews_cleanliness',\n",
        "'reviews_checkin', 'reviews_communication', 'reviews_location',\n",
        "'reviews_value', 'reviews_per_month', 'target'\n",
        "]\n",
        "categorical_features = [\n",
        "'property_summary', 'property_space',\n",
        "'property_desc', 'property_neighborhood', 'property_notes',\n",
        "'property_zipcode', 'property_lat', 'property_lon',\n",
        "'property_type', 'property_room_type',\n",
        "'property_bathrooms', 'property_bedrooms', 'property_beds',\n",
        "'property_bed_type', 'property_amenities', 'property_sqfeet',\n",
        "'property_last_updated', 'host_id',\n",
        "'host_location', 'host_about', 'host_response_time',\n",
        "'host_nr_listings', 'host_nr_listings_total',\n",
        "'host_verified', 'booking_price_covers', 'booking_cancel_policy',\n",
        "'extra', 'property_id', 'property_name', 'property_transit', \n",
        "'property_access', 'property_interaction', 'property_rules', \n",
        "'property_scraped_at', 'host_since', 'reviews_first', 'reviews_last'\n",
        "]\n",
        "\n",
        "text_columns = [\n",
        "    'property_name', 'property_summary', 'property_space',\n",
        "                'property_desc', 'property_neighborhood', 'property_notes',\n",
        "                'property_transit', 'property_access', 'property_interaction',\n",
        "                'property_rules'\n",
        "] # The text columns will be treated separately for featuring later on"
      ]
    },
    {
      "cell_type": "code",
      "execution_count": null,
      "metadata": {
        "id": "PWoBmi0m5Pt5"
      },
      "outputs": [],
      "source": [
        "# Function for obtaining the descriptive statistics about the target feature\n",
        "def stats_target(df, target):\n",
        "  target_stats = df[target].describe() # Getting the target's descriptive statistics\n",
        "  stats_target_df = pd.DataFrame(target_stats) # Getting a dataframe\n",
        "  return stats_target_df"
      ]
    },
    {
      "cell_type": "code",
      "execution_count": null,
      "metadata": {
        "id": "dzIOpUxihKsJ"
      },
      "outputs": [],
      "source": [
        "# Function for obtaining the best distribution of target variable\n",
        "from scipy import stats\n",
        "\n",
        "def find_best_distribution(data, feature):\n",
        "    # Fit different distributions to the data\n",
        "    distributions = [\n",
        "        stats.norm,  # Normal distribution\n",
        "        stats.expon,  # Exponential distribution\n",
        "        stats.gamma,  # Gamma distribution\n",
        "        stats.lognorm,  # Lognormal distribution\n",
        "        stats.beta,  # Beta distribution\n",
        "        stats.uniform  # Uniform distribution\n",
        "    ]\n",
        "\n",
        "    # Compute the AIC for each distribution\n",
        "    aic_values = []\n",
        "    for distribution in distributions:\n",
        "        params = distribution.fit(data[feature])\n",
        "        log_likelihood = distribution.logpdf(data[feature], *params).sum()\n",
        "        aic = -2 * log_likelihood + 2 * len(params)\n",
        "        aic_values.append(aic)\n",
        "\n",
        "    # Select the distribution with the lowest AIC\n",
        "    best_distribution = distributions[np.argmin(aic_values)]\n",
        "\n",
        "    # Return the name of the best fitting distribution\n",
        "    return best_distribution.name"
      ]
    },
    {
      "cell_type": "code",
      "execution_count": null,
      "metadata": {
        "id": "TeiNegHthi9u"
      },
      "outputs": [],
      "source": [
        "import seaborn as sns\n",
        "\n",
        "def univariate_plotting(df, feature):\n",
        "    # Plot histogram with KDE\n",
        "    plt.figure(figsize=(8, 6))\n",
        "    sns.histplot(data=df, x=feature, kde=True, bins=30)\n",
        "    plt.xlabel('Measurement')\n",
        "    plt.ylabel('Frequency')\n",
        "    plt.title('Histogram')\n",
        "    plt.show()\n",
        "\n",
        "    # Plot box plot\n",
        "    plt.figure(figsize=(8, 6))\n",
        "    sns.boxplot(data=df, x=feature, notch=True, sym='o')\n",
        "    plt.xlabel('Group')\n",
        "    plt.ylabel('Measurement')\n",
        "    plt.title('Box Plot')\n",
        "    plt.show()\n",
        "\n",
        "    # Plot kernel density estimate\n",
        "    plt.figure(figsize=(8, 6))\n",
        "    sns.kdeplot(data=df, x=feature)\n",
        "    plt.xlabel('Measurement')\n",
        "    plt.ylabel('Density')\n",
        "    plt.title('Kernel Density Plot')\n",
        "    plt.show()"
      ]
    },
    {
      "cell_type": "code",
      "execution_count": null,
      "metadata": {
        "id": "n34W-0UU4dKF"
      },
      "outputs": [],
      "source": [
        "# Definying a function for correlation identification with heatmap visualization\n",
        "def correlation_heatmap(df):\n",
        "    # Getting correlation matrix\n",
        "    corr_matrix = df.corr()\n",
        "    # Print correlation matrix\n",
        "    print(\"Correlation Matrix:\\n\", corr_matrix.to_string())\n",
        "    # Create heatmap plot\n",
        "    plt.figure(figsize=(10, 8))\n",
        "    sns.heatmap(corr_matrix, cmap='coolwarm', annot=True, vmin=-1, vmax=1, fmt='.1f')\n",
        "    # Show the plot\n",
        "    plt.show()"
      ]
    },
    {
      "cell_type": "code",
      "source": [
        "# Defining a function for obtaining scatterplots from all numerical features\n",
        "def scatterplots(df, numerical_features, target_feature):\n",
        "    for feature in numerical_features:\n",
        "        if feature != target_feature:\n",
        "            plt.figure()\n",
        "            plt.scatter(df[feature], df[target_feature])\n",
        "            plt.xlabel(feature)\n",
        "            plt.ylabel(target_feature)\n",
        "            plt.title(f\"Scatterplot: {feature} vs {target_feature}\")\n",
        "            plt.show()"
      ],
      "metadata": {
        "id": "1GrhPUMB65yp"
      },
      "execution_count": null,
      "outputs": []
    },
    {
      "cell_type": "code",
      "execution_count": null,
      "metadata": {
        "id": "cnvimBTC5cws"
      },
      "outputs": [],
      "source": [
        "from scipy.cluster.hierarchy import dendrogram, linkage\n",
        "# Defining a function for doing clustering on two categorical features\n",
        "def plot_dendrogram(dataframe):\n",
        "    # Compute the linkage matrix using Ward's method\n",
        "    linkage_matrix = linkage(dataframe, method='ward')\n",
        "\n",
        "    # Plot the dendrogram\n",
        "    fig, ax = plt.subplots(figsize=(10, 5))\n",
        "    dendrogram(linkage_matrix)\n",
        "    plt.xlabel('Locations')\n",
        "    plt.ylabel('Distance')\n",
        "    plt.show()"
      ]
    },
    {
      "cell_type": "code",
      "execution_count": null,
      "metadata": {
        "id": "AzzbvTUIm6FH"
      },
      "outputs": [],
      "source": [
        "# Getting the accurate types for the features within the data set \n",
        "def convert_correct_types(df):\n",
        "    if df['property_bedrooms'].dtype == 'float64':\n",
        "        df['property_bedrooms'] = df['property_bedrooms'].fillna(np.NaN).astype('Int64')\n",
        "    if df['property_beds'].dtype == 'float64':\n",
        "        df['property_beds'] = df['property_beds'].fillna(np.NaN).astype('Int64')\n",
        "    if df['booking_price_covers'].dtype == 'float64':\n",
        "        df['booking_price_covers'] = df['booking_price_covers'].fillna(np.NaN).astype('Int64')\n",
        "    if df['host_response_rate'].dtype == 'float64':\n",
        "        df['host_response_rate'] = df['host_response_rate'].fillna(np.NaN).astype('Int64')\n",
        "    return df "
      ]
    },
    {
      "cell_type": "code",
      "execution_count": null,
      "metadata": {
        "id": "T2OKU8eInCsJ"
      },
      "outputs": [],
      "source": []
    },
    {
      "cell_type": "code",
      "execution_count": null,
      "metadata": {
        "id": "SUTcMP_gqh8q"
      },
      "outputs": [],
      "source": [
        "# Defining function for identifying identical features\n",
        "def duplicate_features(data):\n",
        "    duplicates = set()  \n",
        "    kept_features = []\n",
        "    removed_features = []  \n",
        "\n",
        "    for i, column1 in enumerate(data.columns):  \n",
        "        for j, column2 in enumerate(data.columns[i + 1:], i + 1):\n",
        "            # Checking if column1 and column2 are equal\n",
        "            if data[column1].equals(data[column2]):\n",
        "                # If they are equal, add column2 to the duplicates set\n",
        "                duplicates.add(column2)\n",
        "                # Get the kept feature \n",
        "                kept_feature = data.columns[i]\n",
        "                kept_features.append(kept_feature)  # List of the kept features\n",
        "                removed_features.append(column2)\n",
        "\n",
        "                # Print the duplicated feature\n",
        "                print(f\"Feature '{column2}' is duplicated.\")"
      ]
    },
    {
      "cell_type": "markdown",
      "metadata": {
        "id": "Ef46eUGm3D57"
      },
      "source": [
        "Missigness"
      ]
    },
    {
      "cell_type": "code",
      "execution_count": null,
      "metadata": {
        "id": "YTZOcPa4n8Lf"
      },
      "outputs": [],
      "source": [
        "# Defining function for recognizing missing values within features\n",
        "def features_missing_values(df):\n",
        "    missing = df.isnull().sum() # Identifying missing sum within each feature\n",
        "    missing_pct = (missing / len(df)) * 100 # Percentage of missingness compare to total n in dataset\n",
        "    missing_values = pd.concat([\n",
        "        missing, missing_pct.astype('int64')], # Getting type int64 for Percentage column \n",
        "        axis=1, \n",
        "        keys=[\n",
        "            'Total Missing', 'Percentage (%)']\n",
        "     ) # Creating dataframe with % of missing for each feature\n",
        "    missing_values.sort_values(by='Total Missing', ascending=False, inplace=True)\n",
        "    missing_values.index.name = 'Feature'\n",
        "    return missing_values "
      ]
    },
    {
      "cell_type": "code",
      "execution_count": null,
      "metadata": {
        "id": "5E-ZiLf1dT7X"
      },
      "outputs": [],
      "source": [
        "# Defining function for identifying the features with missing rates greater than 90%\n",
        "def identify_missing_features(data, threshold=0.9):\n",
        "    missing_perc = data.isnull().sum() / len(data) * 100  # Calculate the percentage of missingness within each feature\n",
        "    high_missing_features = missing_perc[missing_perc >= threshold * 100].index.tolist()  # Features with missing rate >= 90%\n",
        "\n",
        "    if not high_missing_features:\n",
        "        print(\"No features with missingness rate greater than {}% found. The default threshold is 90%.\".format(threshold * 100))\n",
        "    else:\n",
        "        print(\"The following features have a missing rate greater than {}%:\".format(threshold * 100))\n",
        "        for feature in high_missing_features:\n",
        "            print(\"- {}\".format(feature))"
      ]
    },
    {
      "cell_type": "code",
      "execution_count": null,
      "metadata": {
        "id": "3sJq24Kn42xE"
      },
      "outputs": [],
      "source": [
        "from sklearn.impute import KNNImputer\n",
        "from sklearn.impute import SimpleImputer\n",
        "# Defining a function for missing imputation using KNN and SimpleImputer (mode)\n",
        "def impute_missing_values(df):\n",
        "    imputed_df = df.copy()\n",
        "\n",
        "    numerical_features_remaining = [col for col in numerical_features if col in imputed_df.columns]\n",
        "    categorical_features_remaining = [col for col in categorical_features if col in imputed_df.columns]\n",
        "\n",
        "    knn_imputer = KNNImputer(n_neighbors=5)\n",
        "\n",
        "    imputed_numerical = knn_imputer.fit_transform(imputed_df[numerical_features_remaining])\n",
        "    imputed_numerical_df = pd.DataFrame(imputed_numerical, columns=numerical_features_remaining)\n",
        "    imputed_numerical_df[numerical_features_remaining] = imputed_numerical_df[numerical_features_remaining].astype(imputed_df[numerical_features_remaining].dtypes)\n",
        "\n",
        "    imputed_df[numerical_features_remaining] = imputed_numerical_df[numerical_features_remaining]\n",
        "\n",
        "    categorical_features_to_impute = [col for col in categorical_features_remaining if col not in text_columns]\n",
        "    mode_imputers = {}\n",
        "    for col in categorical_features_to_impute:\n",
        "        mode_imputer = SimpleImputer(strategy='most_frequent')\n",
        "        imputed_df[col] = mode_imputer.fit_transform(imputed_df[col].values.reshape(-1, 1))\n",
        "        mode_imputers[col] = mode_imputer\n",
        "\n",
        "    imputed = (df[numerical_features_remaining] != imputed_numerical_df[numerical_features_remaining]).any(axis=1)\n",
        "    imputed_df['imputed'] = imputed.astype('int64')\n",
        "\n",
        "    return imputed_df"
      ]
    },
    {
      "cell_type": "code",
      "source": [
        "# Defining a function for the missing features with more than 5% of missingness\n",
        "def features_missing_values(df, threshold=5):\n",
        "    missing = df.isnull().sum() # Identifying missing sum within each feature\n",
        "    missing_pct = (missing / len(df)) * 100 # Percentage of missingness compare to total n in dataset\n",
        "    missing_values = pd.concat([\n",
        "        missing, missing_pct.astype('int64')], # Getting type int64 for Percentage column \n",
        "        axis=1, \n",
        "        keys=[\n",
        "            'Total Missing', 'Percentage (%)']\n",
        "     ) # Creating dataframe with % of missing for each feature\n",
        "    missing_values.sort_values(by='Total Missing', ascending=False, inplace=True) # Sorting\n",
        "    missing_values.index.name = 'Feature' # Setting the index as 'Feature'\n",
        "    return missing_values[missing_values['Percentage (%)'] > threshold].index.tolist()"
      ],
      "metadata": {
        "id": "7xhI_1EW7cO6"
      },
      "execution_count": null,
      "outputs": []
    },
    {
      "cell_type": "markdown",
      "metadata": {
        "id": "1S1PA_ss52f_"
      },
      "source": [
        "outliers"
      ]
    },
    {
      "cell_type": "code",
      "execution_count": null,
      "metadata": {
        "id": "LceJ1ZeS53Qp"
      },
      "outputs": [],
      "source": [
        "from sklearn.preprocessing import OneHotEncoder\n",
        "from sklearn.neighbors import LocalOutlierFactor\n",
        "# Defining function doing one-hot encoding on categorical features\n",
        "def encode_categorical_features(df, categorical_features):\n",
        "    # Perform one-hot encoding on the categorical features\n",
        "    encoder = OneHotEncoder(sparse=True, handle_unknown='ignore')\n",
        "    onehot = encoder.fit_transform(df[categorical_features])\n",
        "    onehot_labels = encoder.get_feature_names_out(categorical_features)\n",
        "\n",
        "    # Creating a new DataFrame with the encoded features\n",
        "    df_onehot = pd.DataFrame.sparse.from_spmatrix(onehot, columns=onehot_labels)\n",
        "\n",
        "    return df_onehot\n",
        "  \n",
        "# Defining function for identifying outliers\n",
        "def perform_outlier_detection(df, numerical_features, categorical_features, text_columns):\n",
        "    # Filtering the numerical and categorical features\n",
        "    numerical_features_remaining = [col for col in numerical_features if col in df.columns]\n",
        "    categorical_features_remaining = [col for col in categorical_features if col in df.columns]\n",
        "    features = numerical_features_remaining + list(df.columns[df.columns.str.startswith('x')]) # This excludes the text columns\n",
        "\n",
        "    # Encoding categorical features (excluding text columns)\n",
        "    encoded_df = encode_categorical_features(df[categorical_features_remaining], categorical_features_remaining)\n",
        "\n",
        "    # Selecting the features\n",
        "    features = [col for col in features if col in encoded_df.columns]\n",
        "\n",
        "    # Performing outlier detection using Local Outlier Factor (LOF)\n",
        "    lof = LocalOutlierFactor(n_neighbors=20, contamination=0.02)\n",
        "    y_pred = lof.fit_predict(pd.concat([encoded_df[features], df[numerical_features_remaining]], axis=1))\n",
        "\n",
        "    # Creating a new column to store outlier\n",
        "    df['is_outlier'] = y_pred\n",
        "\n",
        "    return df"
      ]
    },
    {
      "cell_type": "code",
      "source": [
        "def visualize_outlier_detection(df):\n",
        "    # Plotting the numerical features against each other\n",
        "    sns.pairplot(df, vars=numerical_features, hue='is_outlier', plot_kws={'alpha': 0.6})\n",
        "\n",
        "    # Adding legend\n",
        "    plt.legend(title='Outlier', labels=['Normal', 'Outlier'])\n",
        "\n",
        "    # Adjusting the layout\n",
        "    plt.tight_layout()\n",
        "\n",
        "    # Display the plot\n",
        "    plt.show()"
      ],
      "metadata": {
        "id": "-d4nFYgOZqKf"
      },
      "execution_count": null,
      "outputs": []
    },
    {
      "cell_type": "markdown",
      "metadata": {
        "id": "o-f6IH65tx7m"
      },
      "source": [
        "featuring"
      ]
    },
    {
      "cell_type": "code",
      "execution_count": null,
      "metadata": {
        "id": "4HKmm8YFty7T"
      },
      "outputs": [],
      "source": [
        "# Create dummy column for every 'extra' (1 or 0 if property has this extra or not)\n",
        "def add_and_populate_columns_for_extras(df):\n",
        "  #step 1: sum up all possible amenities\n",
        "  extras = [] #empty list\n",
        "  for index,row in df.iterrows(): #loop over rows\n",
        "    row_as_list = str(row['extra']).split(sep=', ') #split string seperate amenities (returns list)\n",
        "    for extra in row_as_list: #loop over seperate amenities in list\n",
        "      if not extra in extras and extra != 'nan': #for every (new) amenity, check whether it is already in the list, add if not\n",
        "        extras.append(extra)\n",
        "\n",
        "  #step 2: create and populate columns in df\n",
        "  print(extras)\n",
        "  for extra in extras:\n",
        "    df['dummy_extra_' + extra] = df.apply(lambda x: extra in str(x['extra']).split(sep=', '), axis=1).astype(int) #loop over unique amenities and check whether string contains this amenity, if so, returns True (dummy=1)"
      ]
    },
    {
      "cell_type": "code",
      "execution_count": null,
      "metadata": {
        "id": "LznJx6cAwNat"
      },
      "outputs": [],
      "source": [
        "from geopy.geocoders import Nominatim\n",
        "# Defining function for getting the zipcode from latitude and longitude on the missing values for those features \n",
        "# Getting a geolocator using Nominatim\n",
        "geolocator = Nominatim(user_agent=\"zipcode2\", timeout=10)\n",
        "\n",
        "def add_zipcode2_column(df):\n",
        "    if \"zipcode2\" in df.columns:\n",
        "        print(\"Column 'zipcode2' already exists. Skipping computation.\")\n",
        "        return df\n",
        "    else: # If the code has ran already and feature was created, no procedure is done\n",
        "    # If feature has been created, then getting the zipcode from the coordinates on the data set. Make sure to define the same name on the features :)\n",
        "        def get_zipcode2(row):\n",
        "            if pd.notnull(row['property_zipcode']): # If the row has already the zipcode, keep it \n",
        "                return row['property_zipcode'].replace(\" \", \"\") #delete spaces\n",
        "            else: # If row does not have a zipcode, then obtaining it from the coordinates\n",
        "                lat = row['property_lat']\n",
        "                lon = row['property_lon']\n",
        "                if pd.notnull(lat) and pd.notnull(lon):\n",
        "                    location = geolocator.reverse(f\"{lat},{lon}\", exactly_one=True)\n",
        "                    address = location.raw['address']\n",
        "                    return address.get('postcode')\n",
        "                else:\n",
        "                    return None\n",
        "                    t\n",
        "        df['zipcode2'] = df.apply(get_zipcode2, axis=1)\n",
        "        print(\"Column 'zipcode2' added to DataFrame.\")\n",
        "        return df"
      ]
    },
    {
      "cell_type": "code",
      "execution_count": null,
      "metadata": {
        "id": "aFuNgICWfjz4"
      },
      "outputs": [],
      "source": [
        "# Defining a function for getting the city from the zipcode obtained\n",
        "def city(data):\n",
        "    for index, row in data.iterrows():\n",
        "        zipcode = str(row['zipcode2'])\n",
        "        if zipcode.startswith(\"1\"):\n",
        "            data.loc[index, 'city'] = \"Brussels\"\n",
        "        elif zipcode.startswith(\"2\"):\n",
        "            data.loc[index, 'city'] = \"Antwerp\"\n",
        "        else:\n",
        "            data.loc[index, 'city'] = \"Unknown\"\n",
        "    \n",
        "    return data"
      ]
    },
    {
      "cell_type": "code",
      "source": [
        "# Defining a function for grouping information about how the room is configurated\n",
        "def group_rooms(df):\n",
        "    grouped_df = df.copy()\n",
        "\n",
        "    # Create a new feature for room configuration\n",
        "    grouped_df['room_configuration'] = ''\n",
        "\n",
        "    # Iterate over each row\n",
        "    for index, row in grouped_df.iterrows():\n",
        "        num_bathrooms = row['property_bathrooms']\n",
        "        num_bedrooms = row['property_bedrooms']\n",
        "        num_beds = row['property_beds']\n",
        "\n",
        "        # Determine the room configuration based on the number of rooms\n",
        "        if num_bathrooms == 1 and num_bedrooms == 1 and num_beds == 1:\n",
        "            grouped_df.loc[index, 'room_configuration'] = '1B1B1B'  # 1 Bathroom, 1 Bedroom, 1 Bed\n",
        "        elif num_bathrooms >= 2 and num_bedrooms >= 2 and num_beds >= 2:\n",
        "            grouped_df.loc[index, 'room_configuration'] = '2B2B2B+'  # 2 or more Bathrooms, 2 or more Bedrooms, 2 or more Beds\n",
        "        else:\n",
        "            grouped_df.loc[index, 'room_configuration'] = 'Other'  # Other room configurations\n",
        "\n",
        "    return grouped_df"
      ],
      "metadata": {
        "id": "vDtDcZHVhfjg"
      },
      "execution_count": null,
      "outputs": []
    },
    {
      "cell_type": "code",
      "source": [
        "# Defining a function for calculating the rate among the max number of guests and property rooms \n",
        "def calculate_guests_to_rooms_ratio(df):\n",
        "    # Calculate the sum of bathrooms, bedrooms, and beds\n",
        "    df['rooms_sum'] = df['property_bathrooms'] + df['property_bedrooms'] + df['property_beds']\n",
        "\n",
        "    # Calculate the guests to rooms ratio\n",
        "    df['guests_to_rooms_ratio'] = df['property_max_guests'] / df['rooms_sum']\n",
        "\n",
        "    return df"
      ],
      "metadata": {
        "id": "kEkr8o8RhxUI"
      },
      "execution_count": null,
      "outputs": []
    },
    {
      "cell_type": "code",
      "source": [
        "# Defining a function for crating boolean columns as desired\n",
        "def create_combined_boolean_column(df, columns, new_column_name):\n",
        "    df[new_column_name] = (df[columns] == 1).any(axis=1).astype(int)\n",
        "    return df"
      ],
      "metadata": {
        "id": "o4TiyvODe69O"
      },
      "execution_count": null,
      "outputs": []
    },
    {
      "cell_type": "code",
      "source": [
        "# Defining a function for grouping the amenities into categories\n",
        "def group_property_amenities(df):\n",
        "    # Define categories and keywords/patterns\n",
        "    categories = {\n",
        "        'Kitchen': ['kitchen'],\n",
        "        'Entertainment': ['cable', 'tv'],\n",
        "        'Safety': ['smoke detector', 'carbon monoxide detector', 'first aid kit', 'fire extinguisher'],\n",
        "        'Internet': ['internet', 'wireless internet'],\n",
        "        'Pets': ['pet', 'dog', 'cat'],\n",
        "        'Other amenities': []\n",
        "    }\n",
        "\n",
        "    # Group amenities into categories\n",
        "    grouped_amenities = {category: [] for category in categories.keys()}\n",
        "    default_category = 'Other amenities'\n",
        "\n",
        "    for amenities in df['property_amenities']:\n",
        "        if isinstance(amenities, str):\n",
        "            for amenity in amenities.split(','):\n",
        "                amenity = amenity.strip()\n",
        "                for category, keywords in categories.items():\n",
        "                    if any(re.search(keyword, amenity, re.IGNORECASE) for keyword in keywords):\n",
        "                        grouped_amenities[category].append(amenity)\n",
        "                        break\n",
        "                else:\n",
        "                    grouped_amenities[default_category].append(amenity)\n",
        "\n",
        "    # Create binary features for each category\n",
        "    for category, amenities in grouped_amenities.items():\n",
        "        df[category] = df['property_amenities'].apply(lambda x: int(any(amenity in x for amenity in amenities)))\n",
        "\n",
        "    return df"
      ],
      "metadata": {
        "id": "uoolSd5po9w0"
      },
      "execution_count": null,
      "outputs": []
    },
    {
      "cell_type": "code",
      "source": [
        "from datetime import datetime\n",
        "# Defining a function for calculating the duration of a host\n",
        "def calculate_host_duration(df, host_since_column='host_since'):\n",
        "\n",
        "    df[host_since_column] = pd.to_datetime(df[host_since_column])\n",
        "\n",
        "    # Calculate the duration\n",
        "    df['host_duration'] = (datetime.now() - df[host_since_column]).dt.days\n",
        "\n",
        "    return df"
      ],
      "metadata": {
        "id": "7rdSGnuMpPd1"
      },
      "execution_count": null,
      "outputs": []
    },
    {
      "cell_type": "code",
      "source": [
        "from geopy.distance import geodesic\n",
        "# Defining function for calulating the distance of the property to the city center\n",
        "def add_distance_to_city_center(df, city_center_coords, city_column='city'):\n",
        "    for city, coords in city_center_coords.items():\n",
        "        city_mask = df[city_column] == city\n",
        "        df.loc[city_mask, 'distance_to_city_center'] = df[city_mask].apply(\n",
        "            lambda row: geodesic((row['property_lat'], row['property_lon']), coords).kilometers,\n",
        "            axis=1\n",
        "        )\n",
        "\n",
        "# Usage example\n",
        "city_center_coords = {\n",
        "    'Brussels': (50.8503, 4.3517),\n",
        "    'Antwerp': (51.2194, 4.4025)\n",
        "}"
      ],
      "metadata": {
        "id": "BWl9zpds9ulB"
      },
      "execution_count": null,
      "outputs": []
    },
    {
      "cell_type": "code",
      "source": [
        "# Getting a booking rate when comparing the max number of nights and the min nights against the booking availability\n",
        "def calculate_booking_rate(df):\n",
        "    df['booking_rate'] = df['booking_max_nights'] - df['booking_min_nights'] / df['booking_availability_365']\n",
        "    df['booking_rate'] = df['booking_rate'].replace([np.inf, -np.inf], 0)\n",
        "    return df"
      ],
      "metadata": {
        "id": "VFlIKRiC-eZ3"
      },
      "execution_count": null,
      "outputs": []
    },
    {
      "cell_type": "markdown",
      "metadata": {
        "id": "gTkoKbZ16mOL"
      },
      "source": [
        "model evaluation"
      ]
    },
    {
      "cell_type": "code",
      "execution_count": null,
      "metadata": {
        "id": "mTyyg9gVweC-"
      },
      "outputs": [],
      "source": [
        "from sklearn.metrics import mean_squared_error, mean_absolute_error, r2_score\n",
        "# Defining function for getting the metrics for doing model selection\n",
        "def score_estimator(estimator, X_test, y_test):\n",
        "    \"\"\"Score an estimator on the test set.\"\"\"\n",
        "    y_pred = np.round(estimator.predict(X_test))\n",
        "\n",
        "    mse = mean_squared_error(y_test, y_pred)\n",
        "    rmse = np.sqrt(mse)\n",
        "    mae = mean_absolute_error(y_test, y_pred)\n",
        "    # Print each of the metrics\n",
        "    print(\"MSE: %.3f\" % mse)\n",
        "    print(\"RMSE: %.3f\" % rmse)\n",
        "    print(\"MAE: %.3f\" % mae)"
      ]
    },
    {
      "cell_type": "markdown",
      "source": [],
      "metadata": {
        "id": "Iry_ZSb0RenM"
      }
    },
    {
      "cell_type": "markdown",
      "metadata": {
        "id": "YcR0CNwBl61j"
      },
      "source": [
        "# Preprocessing\n"
      ]
    },
    {
      "cell_type": "markdown",
      "metadata": {
        "id": "FVaGvGc_mXN2"
      },
      "source": [
        "## Data Cleaning and data consistency\n"
      ]
    },
    {
      "cell_type": "code",
      "execution_count": null,
      "metadata": {
        "id": "A5vE8J1NmyNw"
      },
      "outputs": [],
      "source": [
        "# Making values from zipcode uniform\n",
        "if df['property_zipcode'].dtype == 'object':\n",
        "    df['property_zipcode'] = df['property_zipcode'].str.strip()\n",
        "    df['property_zipcode'] = df['property_zipcode'].str.replace(' ', '')"
      ]
    },
    {
      "cell_type": "code",
      "execution_count": null,
      "metadata": {
        "id": "Uk3tv1JZ-NBL",
        "colab": {
          "base_uri": "https://localhost:8080/"
        },
        "outputId": "5f9d77d0-90fd-4ee2-8b2d-69879345eb06"
      },
      "outputs": [
        {
          "output_type": "stream",
          "name": "stdout",
          "text": [
            "Feature 'host_nr_listings_total' is duplicated.\n"
          ]
        }
      ],
      "source": [
        "# Identifying duplicated features\n",
        "duplicate_features(df)"
      ]
    },
    {
      "cell_type": "code",
      "execution_count": null,
      "metadata": {
        "id": "1GuMOiLs-rkz"
      },
      "outputs": [],
      "source": [
        "# Dropping the identified duplicated feature\n",
        "df = df.drop('host_nr_listings_total', axis=1)"
      ]
    },
    {
      "cell_type": "markdown",
      "metadata": {
        "id": "5KdhlMAKqHxr"
      },
      "source": [
        "## Dealing with missigness"
      ]
    },
    {
      "cell_type": "code",
      "execution_count": null,
      "metadata": {
        "id": "oxv5svMqqLHn",
        "colab": {
          "base_uri": "https://localhost:8080/"
        },
        "outputId": "cadce686-a215-49ba-c3c4-a1abd9e84cfa"
      },
      "outputs": [
        {
          "output_type": "stream",
          "name": "stdout",
          "text": [
            "The following features have a missing rate greater than 90.0%:\n",
            "- property_sqfeet\n"
          ]
        }
      ],
      "source": [
        "# Identifying features with missingness greater than 90%\n",
        "identify_missing_features(df, threshold=0.9)"
      ]
    },
    {
      "cell_type": "code",
      "execution_count": null,
      "metadata": {
        "id": "LeBmx4NP_lvy"
      },
      "outputs": [],
      "source": [
        "# Dropping those features\n",
        "df = df.drop('property_sqfeet', axis=1)"
      ]
    },
    {
      "cell_type": "code",
      "source": [
        "# Performing KNN and simple imputation on the missing values\n",
        "df_imputed = impute_missing_values(df)"
      ],
      "metadata": {
        "id": "Fhq-uee0XxAj"
      },
      "execution_count": null,
      "outputs": []
    },
    {
      "cell_type": "markdown",
      "metadata": {
        "id": "SpRoxVPY4kvL"
      },
      "source": [
        "## Dealing with outliers"
      ]
    },
    {
      "cell_type": "code",
      "execution_count": null,
      "metadata": {
        "id": "jEHGJntqGtjI",
        "colab": {
          "base_uri": "https://localhost:8080/"
        },
        "outputId": "285d6664-4649-4f52-f2ab-33c8d74b6471"
      },
      "outputs": [
        {
          "output_type": "stream",
          "name": "stderr",
          "text": [
            "/usr/local/lib/python3.10/dist-packages/sklearn/preprocessing/_encoders.py:868: FutureWarning: `sparse` was renamed to `sparse_output` in version 1.2 and will be removed in 1.4. `sparse_output` is ignored unless you leave `sparse` to its default value.\n",
            "  warnings.warn(\n"
          ]
        }
      ],
      "source": [
        "# Perform one-hot encoding and outlier detection\n",
        "df_out = perform_outlier_detection(df_imputed, numerical_features, categorical_features, text_columns)"
      ]
    },
    {
      "cell_type": "code",
      "execution_count": null,
      "metadata": {
        "id": "PHG_BiCd4j8P",
        "colab": {
          "base_uri": "https://localhost:8080/"
        },
        "outputId": "40bd2a10-8a7a-414e-9616-ac6d2289c6f5"
      },
      "outputs": [
        {
          "output_type": "stream",
          "name": "stdout",
          "text": [
            " 1    900\n",
            "-1     19\n",
            "Name: is_outlier, dtype: int64\n"
          ]
        }
      ],
      "source": [
        "# count the unique values of a feature\n",
        "unique_counts = df_out['is_outlier'].value_counts()\n",
        "\n",
        "# print the unique value counts\n",
        "print(unique_counts)"
      ]
    },
    {
      "cell_type": "code",
      "execution_count": null,
      "metadata": {
        "id": "D9LYaRNNGuAb",
        "colab": {
          "base_uri": "https://localhost:8080/"
        },
        "outputId": "e31a87b1-235f-4fbc-b31c-0d6a8fe0edc3"
      },
      "outputs": [
        {
          "output_type": "stream",
          "name": "stdout",
          "text": [
            "Removed rows:\n",
            "[7, 58, 82, 121, 136, 182, 411, 471, 476, 480, 498, 501, 722, 771, 773, 778, 782, 791, 917]\n"
          ]
        }
      ],
      "source": [
        "# Getting the rows considered to be outliers\n",
        "removed_rows = df_out[df_out['is_outlier'] == -1].index.tolist()\n",
        "df_out = df_out[df_out['is_outlier'] != -1]\n",
        "# Removing the outliers from the data set\n",
        "df_imputed = df_imputed.drop(removed_rows)\n",
        "# obtaining a final data set\n",
        "df = df_imputed\n",
        "print(\"Removed rows:\")\n",
        "print(removed_rows)"
      ]
    },
    {
      "cell_type": "markdown",
      "source": [
        "Uncoment if you want to perform it on obs <200 for the target"
      ],
      "metadata": {
        "id": "GHDU1_WGx_cY"
      }
    },
    {
      "cell_type": "code",
      "execution_count": null,
      "metadata": {
        "id": "_qwMFbwqc5gz"
      },
      "outputs": [],
      "source": [
        "# df = df[df['target'] <= 200]"
      ]
    },
    {
      "cell_type": "markdown",
      "metadata": {
        "id": "OUVPXqXJAcpY"
      },
      "source": [
        "## Creating features"
      ]
    },
    {
      "cell_type": "code",
      "execution_count": null,
      "metadata": {
        "id": "RA8oE4fIpGZD"
      },
      "outputs": [],
      "source": [
        "# Condition to check for text by row\n",
        "has_text = df[text_columns].apply(lambda row: 0 if any(pd.isna(row)) or any(row == ' ') or any(row == ' ') else 1, axis=1)\n",
        "\n",
        "# Assign value to text_var based on the condition\n",
        "df['text_var'] = has_text"
      ]
    },
    {
      "cell_type": "code",
      "execution_count": null,
      "metadata": {
        "id": "odjvwr4fvAOJ",
        "colab": {
          "base_uri": "https://localhost:8080/"
        },
        "outputId": "458b4632-35ec-40f0-b76f-4d90a5151226"
      },
      "outputs": [
        {
          "output_type": "stream",
          "name": "stdout",
          "text": [
            "0      1\n",
            "1      1\n",
            "2      1\n",
            "3      1\n",
            "4      0\n",
            "      ..\n",
            "913    1\n",
            "914    1\n",
            "915    1\n",
            "916    1\n",
            "918    1\n",
            "Name: property_room_type, Length: 900, dtype: int64\n"
          ]
        }
      ],
      "source": [
        "# eEcode property_room_type into entire home/apt vs other\n",
        "def binary_property_room_type(row):\n",
        "    if row['property_room_type'] == 'Entire home/apt': \n",
        "        return 1\n",
        "    else:\n",
        "        return 0 \n",
        "df['property_room_type'] = df.apply(lambda x: binary_property_room_type(x), axis=1)\n",
        "\n",
        "print(df.property_room_type)"
      ]
    },
    {
      "cell_type": "code",
      "execution_count": null,
      "metadata": {
        "id": "5S9exMwFsEdF",
        "colab": {
          "base_uri": "https://localhost:8080/"
        },
        "outputId": "2860c0a9-0725-4160-dac9-3b43caf15896"
      },
      "outputs": [
        {
          "output_type": "stream",
          "name": "stdout",
          "text": [
            "0       9.166667\n",
            "1       9.166667\n",
            "2       8.500000\n",
            "3       9.000000\n",
            "4       9.266667\n",
            "         ...    \n",
            "913     8.666667\n",
            "914    10.000000\n",
            "915     9.833333\n",
            "916     9.400000\n",
            "918    10.000000\n",
            "Name: reviews_avg, Length: 900, dtype: float64\n"
          ]
        }
      ],
      "source": [
        "# Setting an index for reviews: 'reviews_acc', 'reviews_cleanliness', 'reviews_checkin', 'reviews_communication', 'reviews_location', 'reviews_value'\n",
        "df['reviews_avg'] = df[['reviews_acc', 'reviews_cleanliness', 'reviews_checkin', 'reviews_communication', 'reviews_location', 'reviews_value']].mean(axis=1)\n",
        "print(df.reviews_avg)"
      ]
    },
    {
      "cell_type": "code",
      "execution_count": null,
      "metadata": {
        "id": "o-MT1gPggg_J",
        "colab": {
          "base_uri": "https://localhost:8080/"
        },
        "outputId": "433f5d2f-83f9-4ad8-d8d0-91e253a3b868"
      },
      "outputs": [
        {
          "output_type": "stream",
          "name": "stdout",
          "text": [
            "Column 'zipcode2' added to DataFrame.\n"
          ]
        }
      ],
      "source": [
        "# Adding zipcodes from the latitude and longitude\n",
        "df['property_zipcode'] = df['property_zipcode'].astype(str)\n",
        "df = add_zipcode2_column(df)"
      ]
    },
    {
      "cell_type": "code",
      "source": [
        "# Getting the cities were property was located\n",
        "df = city(df)"
      ],
      "metadata": {
        "id": "LvEzQINnL3ke"
      },
      "execution_count": null,
      "outputs": []
    },
    {
      "cell_type": "code",
      "source": [
        "df['city'].value_counts()"
      ],
      "metadata": {
        "colab": {
          "base_uri": "https://localhost:8080/"
        },
        "id": "CTiOKhUqTUuP",
        "outputId": "4c6eb1a5-aed0-4902-9e0f-53e6e8f653ad"
      },
      "execution_count": null,
      "outputs": [
        {
          "output_type": "execute_result",
          "data": {
            "text/plain": [
              "Brussels    785\n",
              "Antwerp     115\n",
              "Name: city, dtype: int64"
            ]
          },
          "metadata": {},
          "execution_count": 182
        }
      ]
    },
    {
      "cell_type": "code",
      "execution_count": null,
      "metadata": {
        "id": "amjBitntVbzx",
        "colab": {
          "base_uri": "https://localhost:8080/"
        },
        "outputId": "d707ed5d-1b7e-42e1-d406-e7bb5224fedd"
      },
      "outputs": [
        {
          "output_type": "stream",
          "name": "stdout",
          "text": [
            "['Host Has Profile Pic', 'Host Identity Verified', 'Is Location Exact', 'Instant Bookable', 'Require Guest Profile Picture', 'Require Guest Phone Verification', 'Host Is Superhost']\n"
          ]
        }
      ],
      "source": [
        "# Dummification on extra variable\n",
        "add_and_populate_columns_for_extras(df)"
      ]
    },
    {
      "cell_type": "code",
      "source": [
        "# Calculating the distance of the property to the city center\n",
        "add_distance_to_city_center(df, city_center_coords)"
      ],
      "metadata": {
        "id": "62Siq2_3CR73"
      },
      "execution_count": null,
      "outputs": []
    },
    {
      "cell_type": "code",
      "source": [
        "# Getting only relevant extra characteristics\n",
        "columns_to_check = ['dummy_extra_Is Location Exact', 'dummy_extra_Instant Bookable', 'dummy_extra_Host Identity Verified', 'dummy_extra_Host Is Superhost']\n",
        "new_column_name = 'ext'\n",
        "\n",
        "df = create_combined_boolean_column(df, columns_to_check, new_column_name)"
      ],
      "metadata": {
        "id": "HzkhUTltR9ml"
      },
      "execution_count": null,
      "outputs": []
    },
    {
      "cell_type": "code",
      "source": [
        "# Getting the room configuration\n",
        "df = group_rooms(df)"
      ],
      "metadata": {
        "id": "cSwHtvXydx1G"
      },
      "execution_count": null,
      "outputs": []
    },
    {
      "cell_type": "code",
      "source": [
        "# Calculating the host duration\n",
        "df = calculate_host_duration(df)"
      ],
      "metadata": {
        "id": "aiQZcSP1fafM"
      },
      "execution_count": null,
      "outputs": []
    },
    {
      "cell_type": "code",
      "source": [
        "# Getting the guesst rooms ratio\n",
        "df = calculate_guests_to_rooms_ratio(df)"
      ],
      "metadata": {
        "id": "hIuwJHnUh31A"
      },
      "execution_count": null,
      "outputs": []
    },
    {
      "cell_type": "code",
      "source": [
        "# Getting the amenities categories\n",
        "df = group_property_amenities(df)"
      ],
      "metadata": {
        "id": "1cNxm6mWmyT9"
      },
      "execution_count": null,
      "outputs": []
    },
    {
      "cell_type": "code",
      "source": [
        "# Calculating the booking rate\n",
        "df = calculate_booking_rate(df)"
      ],
      "metadata": {
        "id": "_E4b8W4WqAOY"
      },
      "execution_count": null,
      "outputs": []
    },
    {
      "cell_type": "markdown",
      "metadata": {
        "id": "3JvDwkhZAvX6"
      },
      "source": [
        "# Set up"
      ]
    },
    {
      "cell_type": "code",
      "execution_count": null,
      "metadata": {
        "id": "JeH2u-TRnhox"
      },
      "outputs": [],
      "source": [
        "set_up = df[[\n",
        "    'reviews_avg', 'booking_rate', 'reviews_per_month', 'guests_to_rooms_ratio', 'host_response_rate', 'host_duration', 'distance_to_city_center',\n",
        "    'room_configuration', 'property_room_type', 'Entertainment',\n",
        "]] # Same set-up, but target is excluded"
      ]
    },
    {
      "cell_type": "code",
      "execution_count": null,
      "metadata": {
        "id": "XhDxXjAbt8xn"
      },
      "outputs": [],
      "source": [
        "# Load the model from the file\n",
        "filename = ' ' # add the path \n",
        "with open(filename, 'rb') as file:\n",
        "    loaded_model = pickle.load(file)"
      ]
    },
    {
      "cell_type": "code",
      "execution_count": null,
      "metadata": {
        "colab": {
          "base_uri": "https://localhost:8080/"
        },
        "id": "bGAjsi235oRt",
        "outputId": "85962b60-df80-4ac2-a133-56c883367ad9"
      },
      "outputs": [
        {
          "output_type": "stream",
          "name": "stdout",
          "text": [
            "[66.14256693 83.79383944 65.48870563 68.04017811 62.51240972 62.51240972\n",
            " 81.73947959 68.4584167  60.89482969 67.20564238 68.37995526 64.86620028\n",
            " 57.80219613 66.82167784 75.18022453 66.43118861 66.98284866 66.95297993\n",
            " 65.48441104 65.84102977 61.08446676 70.39735245 61.04167164 61.77832617\n",
            " 71.58669051 66.26396679 61.81081213 68.23831956 65.48441104 64.60801276\n",
            " 61.39353095 64.34634095 66.8108617  68.76013093 61.92687917 63.84146913\n",
            " 61.53390646 66.4991083  68.51783351 68.35902716 65.48441104 65.12405683\n",
            " 78.27910652 67.25864381 68.51595837 72.06845871 69.48943114 70.65662489\n",
            " 70.17588288 75.18022453 73.87196871 71.00468477 69.32425057 68.25541486\n",
            " 63.84146913 66.83657178 67.07920563 66.37267155 67.57413332 64.72667666\n",
            " 60.92873532 68.47947395 68.23831956 67.35733349 65.74770351 68.31548599\n",
            " 69.9268019  70.12219283 68.06548907 68.09006748 69.31693157 71.93906051\n",
            " 75.09649108 71.93906051 68.06548907 68.09006748 68.06548907 69.73488222\n",
            " 71.33266856 71.3482755  68.06548907 71.85394057 67.74647675 68.80589332\n",
            " 64.72405396 69.31693157 69.31693157 66.34461223 65.61084779 65.48441104\n",
            " 73.83409719 68.87549    71.17746581 64.47486815 71.90743261 65.40569501\n",
            " 74.2925433  61.92687917 65.48441104 63.05816061 63.88327933 66.40839109\n",
            " 63.88327933 68.31548599 77.1373909  66.53439093 66.43914974 69.05850886\n",
            " 63.67138152 66.16486213 65.75029645 68.06548907 71.72750381 68.37598828\n",
            " 62.86878628 74.88067574 66.51298067 67.85909512 69.80569213 70.24238748\n",
            " 75.86852385 68.51783351 62.20621123 75.97410395 61.08446676 69.02523137\n",
            " 60.82231596 65.80841701 70.4532333  66.43914974 73.42696591 66.87077106\n",
            " 66.06102157 62.12300704 72.34820143 66.39278257 65.91246055 66.56734384\n",
            " 66.39548676 66.53439093 67.06986831 65.68193871 70.28524185 67.50839678\n",
            " 68.14191399 67.56658677 82.3107249  67.0541318  67.35644547 64.57365256\n",
            " 67.766924   66.9290739  67.71616641 66.34461223 57.25987991 71.44002184\n",
            " 70.77839836 66.79179243 75.68226668 66.11514376 65.80841701 69.2526974\n",
            " 68.75373807 65.46159583 66.37267155 70.59157757 60.6089057  70.24327039\n",
            " 68.01559971 68.01559971 69.92469688 71.14493379 70.16166927 68.08057024\n",
            " 69.83379949 67.43850116 66.06603232 62.46243329 65.12676277 61.81081213\n",
            " 67.38415564 71.63443103 70.75246995 69.71761712 75.48462373 71.14743166\n",
            " 66.69667752 76.94035687 64.76898512 70.99895283 66.57322433 65.48441104\n",
            " 64.98515266 61.81394285 66.84625624 66.82167784 67.76929196 61.93531556\n",
            " 72.18668831 74.09049481 68.79796147 83.47714937 67.72189835 67.38741512\n",
            " 70.94150895 72.23076834 64.84351695 76.14194117 65.36682828 65.74770351\n",
            " 71.05457414 79.10171132 82.09767564 61.44110084 75.0388178  77.31627632\n",
            " 70.72090683 65.85784552 67.07920563 65.83549117 64.34033417 69.2393506\n",
            " 70.20326111 67.84753324 60.44673829 75.3323252  63.56563874 61.92687917\n",
            " 68.96416028 61.69527895 69.4680156  64.0827458  68.30975405 79.45080796\n",
            " 67.69236073 68.02542092 69.2810085  68.29981831 68.29981831 63.43648611\n",
            " 67.12798264 65.63792195 67.45198862 65.5114852  63.11248014 62.50608818\n",
            " 65.78089759 67.31564102 65.12676277 65.32647967 61.0072755  64.27887367\n",
            " 74.87023857 67.10827349 67.05503659 68.57143679 68.31548599 65.60390345\n",
            " 66.41588129 60.9053198  67.83451672 66.39278257 68.03841492 61.81394285\n",
            " 67.72189835 68.64542607 68.64542607 68.14203646 68.58313246 68.23831956\n",
            " 67.90837948 67.73898162 63.02603481 68.51489245 72.6205455  75.49019002\n",
            " 69.95218796 67.90837948 66.82167784 68.64542607 76.94035687 76.06908461\n",
            " 69.86125685 62.08838402 66.25288616 64.93368102 66.82167784 66.11514376\n",
            " 62.12300704 75.93778256 70.35436032 62.90888478 66.05200179 68.31548599\n",
            " 68.44627256 65.4875818  66.5396385  68.03444617 66.82167784 65.74770351\n",
            " 75.80953902 68.03841492 66.8159459  68.03268297 68.08005734 64.71172762\n",
            " 68.06548907 65.00313298 62.12300704 67.16301122 67.89957695 64.75927894\n",
            " 68.37057944 68.34600104 67.07347368 67.71616641 69.78200474 66.01358242\n",
            " 65.48441104 66.11514376 66.8583969  65.36105071 66.8159459  65.78089759\n",
            " 65.54828568 68.23831956 62.73194452 68.87549    65.48441104 65.48441104\n",
            " 65.7977291  65.7977291  73.01274314 67.90837948 66.26508907 63.08445633\n",
            " 62.36824942 65.46159583 64.40392882 65.59318321 68.23831956 66.11514376\n",
            " 67.10202084 71.48905278 55.29557552 71.09015603 64.63716435 65.27336498\n",
            " 65.74753422 67.72189835 64.98515266 70.9007963  74.08897381 77.75083117\n",
            " 68.03841492 73.11232121 68.00986776 67.07920563 73.53912601 75.89357695\n",
            " 61.92687917 74.7559091  66.82167784 70.56119759 69.6265749  67.07920563\n",
            " 62.98344413 64.84351695 69.30766465 67.01946806 67.12798264 70.77476084\n",
            " 68.06299332 74.11472003 68.20594716 66.45647714 67.95522153 67.82460588\n",
            " 67.05369043 68.19192583 68.31548599 70.02210504 65.48441104 65.81050775\n",
            " 65.46159583 75.49800672 71.66661046 65.2585995  67.56790853 69.90648789\n",
            " 71.15570805 70.18406875 69.32132334 67.66567787 69.45356857 66.59192585\n",
            " 65.16429566 78.8339435  80.40566949 68.24841719 86.32418157 70.43725015\n",
            " 67.08798334 67.57660829 67.53673065 70.61706168 70.18406875 65.79028442\n",
            " 66.38786821 70.18406875 70.86505508 70.84681212 69.85451083 69.52456583\n",
            " 69.85451083 64.95519435 66.55204821 67.8954283  70.51053692 70.00425722\n",
            " 68.42822871 70.00425722 70.00425722 66.01924781 66.60198713 63.58006504\n",
            " 70.74904278 70.66700059 70.66700059 67.05449351 70.37790224 67.56790853\n",
            " 85.89118864 67.56790853 67.66567787 68.65797915 66.56767974 66.38786821\n",
            " 65.80512889 65.80512889 66.95155352 71.55406063 70.18406875 67.58028125\n",
            " 70.66700059 64.68001204 67.74647675 74.67812747 63.48499368 70.40833194\n",
            " 66.64149685 67.74647675 67.43099837 68.12599788 66.82167784 61.69403889\n",
            " 67.07920563 65.6060678  67.12798264 67.21530045 67.69816913 66.79373648\n",
            " 76.11290166 71.4831154  67.27400294 67.52661779 68.72029164 67.80442411\n",
            " 68.82084887 72.76296164 77.43987514 59.0028721  65.39992225 67.3749706\n",
            " 66.88175318 68.23924876 67.03281079 65.51039701 65.25803951 69.81373728\n",
            " 68.69327333 68.45490859 67.83451672 71.30809015 68.03841492 63.84146913\n",
            " 68.38034532 67.90837948 72.05632116 65.4496835  60.64135306 64.60801276\n",
            " 63.84146913 60.4912603  65.62331521 66.82167784 71.28624399 67.466281\n",
            " 62.49565628 66.57161805 67.44144777 68.6177165  67.74647675 66.11514376\n",
            " 67.12798264 67.55499473 66.37267155 69.22516675 65.14153674 61.91300886\n",
            " 67.466281   66.82167784 66.82167784 66.82167784 66.6350875  68.16678481\n",
            " 68.16485167 66.82167784 66.82167784 62.1457189  68.16895592 65.77487486\n",
            " 63.88327933 67.19886607 68.00986776 68.29981831 71.05564537 67.88697885\n",
            " 72.63735475 65.48748746 66.11514376 66.06124059 67.07266052 68.06299332\n",
            " 64.84351695 74.70319047 65.63193686 66.8159459  65.74975197 66.83524157\n",
            " 68.32250387 68.35173298 68.63390655 67.58439643 66.37267155 68.88647116\n",
            " 63.56563874 65.81050775 66.45647714 64.72667666 64.68713266 64.98515266\n",
            " 66.37267155 66.45647714 66.45647714 68.23831956 68.05726138 67.73898162\n",
            " 67.96095347 64.16527828 67.20564238 66.61227229 68.64542607 67.99442948\n",
            " 81.99667741 66.82167784 75.70288304 68.02656791 68.26613847 70.91016774\n",
            " 61.58135748 66.11514376 64.32818958 65.86446877 66.50865075 66.75230573\n",
            " 66.4991083  69.07695175 70.6358796  71.72750381 63.78301368 64.47281115\n",
            " 68.19192583 76.15742831 70.62576086 63.39510061 68.23831956 65.53313978\n",
            " 66.57461063 77.39863093 67.07920563 75.03520102 68.34932968 67.07920563\n",
            " 65.30139444 69.27935322 71.28522465 71.45925856 68.65745159 66.37267155\n",
            " 69.37003378 70.1585901  64.46910859 72.66060145 66.09609221 68.69327333\n",
            " 61.37288182 65.76768294 54.16799914 66.99163505 65.74770351 67.90837948\n",
            " 66.65841622 68.03444617 66.22486493 66.57461063 69.38529823 66.82167784\n",
            " 67.07920563 68.06548907 65.7977291  65.46159583 65.46159583 66.37267155\n",
            " 67.10378403 54.19801576 70.38985972 71.29265419 68.01559971 66.37267155\n",
            " 68.90580696 65.46159583 69.57693808 71.28051205 68.96585922 64.84351695\n",
            " 66.37267155 66.37267155 64.25945685 65.6060678  65.7977291  67.00300553\n",
            " 67.40720839 73.28275138 68.8708962  71.16233526 66.88421046 69.28321552\n",
            " 68.62147715 67.27577305 70.22808698 72.62709204 68.04357959 71.16233526\n",
            " 72.62709204 63.84146913 61.38763928 58.29241069 67.07920563 65.80841701\n",
            " 66.35504892 66.11514376 68.78132983 68.29981831 67.19886607 59.83886206\n",
            " 67.71210286 66.37267155 68.09782322 66.37455865 67.74471356 66.70880482\n",
            " 66.70880482 67.8483351  66.45647714 68.6177165  68.31548599 68.79796147\n",
            " 61.04167164 67.10202084 71.14632048 78.05837174 70.70814083 65.5975144\n",
            " 71.29838613 67.10378403 68.04017811 70.16166927 71.46484179 69.78200474\n",
            " 67.83451672 65.13792021 64.69554277 68.93056688 69.42781358 68.36909942\n",
            " 60.98234889 69.34706578 66.84625624 67.90837948 66.4991083  65.98644225\n",
            " 67.9383821  66.03730569 67.76970179 66.61059109 66.82167784 70.22720847\n",
            " 68.90146315 66.85483887 67.52020763 63.86365874 65.70162434 61.32876986\n",
            " 66.48593032 66.5796984  66.8159459  65.46159583 64.78242665 68.01559971\n",
            " 68.14203646 67.10378403 67.10378403 67.10378403 67.10378403 67.10378403\n",
            " 67.10378403 67.10378403 68.03841492 66.37267155 66.26396679 64.78517705\n",
            " 82.36536411 62.47480084 67.31918756 70.58875206 70.44750135 66.69667752\n",
            " 65.58803258 65.58803258 65.48441104 65.74770351 65.58803258 65.6060678\n",
            " 66.69667752 68.23831956 65.6060678  65.5114852  65.58803258 67.12798264\n",
            " 69.73576877 65.58803258 65.58803258 66.4991083  65.58803258 65.94435375\n",
            " 68.23831956 65.48441104 65.58803258 65.74975197 65.46159583 65.58803258\n",
            " 64.84351695 68.09995463 66.82718427 64.49054123 66.69667752 65.58803258\n",
            " 68.2965882  67.37601053 68.06299332 68.64542607 66.26396679 67.07920563\n",
            " 68.01559971 70.27950991 67.83451672 68.03841492 67.8483351  69.73971763\n",
            " 69.81893799 65.36862633 67.26927386 68.08261003 66.84625624 65.62001035\n",
            " 66.5150601  63.99720058 68.50623219 69.59563407 68.64542607 68.14203646\n",
            " 70.82099005 65.46159583 64.0204684  66.82167784 65.46159583 67.07920563\n",
            " 67.83451672 70.35872448 65.78089759 73.18290475 66.42899499 66.39548676\n",
            " 62.10488198 72.56026631 65.98099193 67.56886331 67.56886331 66.71949273\n",
            " 67.39287896 71.44002184 64.96795333 64.59538632 68.64542607 71.00468477\n",
            " 66.84625624 66.84625624 68.74651029 66.5829139  68.64542607 65.98099193\n",
            " 66.48583554 64.48499924 66.99163505 67.90837948 68.35173298 72.56630416\n",
            " 70.26851907 66.82167784 74.06889168 64.46910859 66.917928   72.15073179\n",
            " 66.82167784 69.18058398 67.28944797 67.28944797 68.04017811 67.16301122\n",
            " 68.14203646 66.95297993 66.32179702 68.14203646 67.16301122 65.31712368\n",
            " 68.13470104 60.81441335 67.07920563 66.24158052 64.60801276 67.71701559\n",
            " 67.57366079 71.00468477 69.31693157 67.27687471 64.84351695 66.39548676\n",
            " 68.01559971 67.61923396 70.85090693 64.4912726  62.60851107 67.02047073\n",
            " 69.16814444 69.43795295 69.09464789 69.37003378 67.20564238 65.74770351\n",
            " 66.58399867 73.94278078 69.30592548 65.6060678  65.58803258 67.90837948\n",
            " 70.09666831 76.18123394 66.62051347 67.6153373  66.88704273 64.51825765\n",
            " 65.4314525  64.95784578 64.95784578 65.46159583 65.09948149 65.46159583\n",
            " 71.93277655 73.50856873 73.59594536 66.37267155 61.36923061 66.5829139\n",
            " 68.31548599 68.14203646 67.96095347 67.07920563 70.17588288 66.37267155]\n"
          ]
        }
      ],
      "source": [
        "# Make predictions on the test data\n",
        "y_pred = loaded_model.predict(df)"
      ]
    }
  ],
  "metadata": {
    "colab": {
      "toc_visible": true,
      "provenance": []
    },
    "kernelspec": {
      "display_name": "Python 3",
      "name": "python3"
    },
    "language_info": {
      "name": "python"
    }
  },
  "nbformat": 4,
  "nbformat_minor": 0
}